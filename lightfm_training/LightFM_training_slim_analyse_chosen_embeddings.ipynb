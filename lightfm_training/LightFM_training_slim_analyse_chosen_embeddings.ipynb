{
 "cells": [
  {
   "cell_type": "code",
   "execution_count": 26,
   "id": "e3f146a0",
   "metadata": {},
   "outputs": [],
   "source": [
    "import gzip\n",
    "import json\n",
    "import pickle\n",
    "import scipy.sparse\n",
    "\n",
    "import numpy as np\n",
    "import pandas as pd\n",
    "import matplotlib.pyplot as plt\n",
    "\n",
    "from tqdm.notebook import tqdm\n",
    "from scipy import spatial\n",
    "from sklearn.decomposition import PCA\n",
    "\n",
    "from lightfm import LightFM\n",
    "from lightfm.data import Dataset"
   ]
  },
  {
   "cell_type": "code",
   "execution_count": 27,
   "id": "a1a818d7",
   "metadata": {},
   "outputs": [],
   "source": [
    "THREADS = 8"
   ]
  },
  {
   "cell_type": "markdown",
   "id": "3cd3f9b9",
   "metadata": {},
   "source": [
    "## Preparing files"
   ]
  },
  {
   "cell_type": "code",
   "execution_count": 28,
   "id": "b75ce5c6",
   "metadata": {},
   "outputs": [],
   "source": [
    "df = pd.read_csv('/pio/scratch/1/i313924/data/train_data/slim_ratings.csv',\n",
    "                 names=['asin', 'reviewerID', 'overall', 'unixReviewTime'])\n",
    "df = df.loc[(df['overall'] >= 4.0)]"
   ]
  },
  {
   "cell_type": "code",
   "execution_count": 29,
   "id": "eadb86c9",
   "metadata": {},
   "outputs": [],
   "source": [
    "categories = pd.read_json('/pio/scratch/1/recommender_systems/interim/Amazon/meta_Clothing_Shoes_and_Jewelry_categories.json', lines=True)"
   ]
  },
  {
   "cell_type": "code",
   "execution_count": 30,
   "id": "076b4122",
   "metadata": {},
   "outputs": [],
   "source": [
    "dataset = pd.read_pickle('/pio/scratch/1/i313924/data/lightfm_data/slim_dataset.pkl')"
   ]
  },
  {
   "cell_type": "code",
   "execution_count": 31,
   "id": "7d1d1a56",
   "metadata": {},
   "outputs": [],
   "source": [
    "interactions = scipy.sparse.load_npz('/pio/scratch/1/i313924/data/lightfm_data/slim_interactions.npz')"
   ]
  },
  {
   "cell_type": "markdown",
   "id": "9fdf52d8",
   "metadata": {},
   "source": [
    "## Extracting item embeddings"
   ]
  },
  {
   "cell_type": "code",
   "execution_count": 32,
   "id": "ca1f8417",
   "metadata": {},
   "outputs": [],
   "source": [
    "def get_item_embedding(model, dataset, asin):\n",
    "    item_id = dataset.mapping()[2][asin]\n",
    "    return model.item_embeddings[item_id]"
   ]
  },
  {
   "cell_type": "code",
   "execution_count": 33,
   "id": "02e5b4f9",
   "metadata": {},
   "outputs": [],
   "source": [
    "item_asins = df.asin.unique()"
   ]
  },
  {
   "cell_type": "code",
   "execution_count": 74,
   "id": "9b48028c",
   "metadata": {},
   "outputs": [],
   "source": [
    "women_idxs = categories[(categories.category_1 == \"Women\") & (categories.asin.isin(item_asins))].asin.values\n",
    "men_idxs = categories[(categories.category_1 == \"Men\") & (categories.asin.isin(item_asins))].asin.values"
   ]
  },
  {
   "cell_type": "code",
   "execution_count": 79,
   "id": "a5246086",
   "metadata": {},
   "outputs": [],
   "source": [
    "idxs = np.concatenate([women_idxs, men_idxs])"
   ]
  },
  {
   "cell_type": "code",
   "execution_count": 80,
   "id": "f4ade655",
   "metadata": {},
   "outputs": [],
   "source": [
    "to_track = np.random.choice(idxs, 10)"
   ]
  },
  {
   "cell_type": "code",
   "execution_count": 93,
   "id": "b60f7bd8",
   "metadata": {},
   "outputs": [
    {
     "data": {
      "text/html": [
       "<div>\n",
       "<style scoped>\n",
       "    .dataframe tbody tr th:only-of-type {\n",
       "        vertical-align: middle;\n",
       "    }\n",
       "\n",
       "    .dataframe tbody tr th {\n",
       "        vertical-align: top;\n",
       "    }\n",
       "\n",
       "    .dataframe thead th {\n",
       "        text-align: right;\n",
       "    }\n",
       "</style>\n",
       "<table border=\"1\" class=\"dataframe\">\n",
       "  <thead>\n",
       "    <tr style=\"text-align: right;\">\n",
       "      <th></th>\n",
       "      <th>asin</th>\n",
       "      <th>category_1</th>\n",
       "      <th>category_2</th>\n",
       "    </tr>\n",
       "  </thead>\n",
       "  <tbody>\n",
       "    <tr>\n",
       "      <th>84820</th>\n",
       "      <td>B0014GVN46</td>\n",
       "      <td>Men</td>\n",
       "      <td>Shoes</td>\n",
       "    </tr>\n",
       "    <tr>\n",
       "      <th>143184</th>\n",
       "      <td>B001S5HP3G</td>\n",
       "      <td>Women</td>\n",
       "      <td>Jewelry</td>\n",
       "    </tr>\n",
       "    <tr>\n",
       "      <th>274907</th>\n",
       "      <td>B004ARVTWM</td>\n",
       "      <td>Women</td>\n",
       "      <td>Clothing</td>\n",
       "    </tr>\n",
       "    <tr>\n",
       "      <th>951559</th>\n",
       "      <td>B00E0HMOH6</td>\n",
       "      <td>Women</td>\n",
       "      <td>Shoes</td>\n",
       "    </tr>\n",
       "    <tr>\n",
       "      <th>1060927</th>\n",
       "      <td>B00FRBUMPA</td>\n",
       "      <td>Women</td>\n",
       "      <td>Clothing</td>\n",
       "    </tr>\n",
       "    <tr>\n",
       "      <th>1358082</th>\n",
       "      <td>B00KERIVD2</td>\n",
       "      <td>Men</td>\n",
       "      <td>Accessories</td>\n",
       "    </tr>\n",
       "    <tr>\n",
       "      <th>1467217</th>\n",
       "      <td>B00M6KK2FU</td>\n",
       "      <td>Men</td>\n",
       "      <td>Jewelry</td>\n",
       "    </tr>\n",
       "    <tr>\n",
       "      <th>1824044</th>\n",
       "      <td>B00UM2DG6Q</td>\n",
       "      <td>Women</td>\n",
       "      <td>Shoes</td>\n",
       "    </tr>\n",
       "    <tr>\n",
       "      <th>2137199</th>\n",
       "      <td>B014W6BI3A</td>\n",
       "      <td>Women</td>\n",
       "      <td>Jewelry</td>\n",
       "    </tr>\n",
       "    <tr>\n",
       "      <th>2405719</th>\n",
       "      <td>B01B5B7P00</td>\n",
       "      <td>Men</td>\n",
       "      <td>Clothing</td>\n",
       "    </tr>\n",
       "  </tbody>\n",
       "</table>\n",
       "</div>"
      ],
      "text/plain": [
       "               asin category_1   category_2\n",
       "84820    B0014GVN46        Men        Shoes\n",
       "143184   B001S5HP3G      Women      Jewelry\n",
       "274907   B004ARVTWM      Women     Clothing\n",
       "951559   B00E0HMOH6      Women        Shoes\n",
       "1060927  B00FRBUMPA      Women     Clothing\n",
       "1358082  B00KERIVD2        Men  Accessories\n",
       "1467217  B00M6KK2FU        Men      Jewelry\n",
       "1824044  B00UM2DG6Q      Women        Shoes\n",
       "2137199  B014W6BI3A      Women      Jewelry\n",
       "2405719  B01B5B7P00        Men     Clothing"
      ]
     },
     "execution_count": 93,
     "metadata": {},
     "output_type": "execute_result"
    }
   ],
   "source": [
    "categories[categories.asin.isin(to_track)]"
   ]
  },
  {
   "cell_type": "code",
   "execution_count": 96,
   "id": "9936dd46",
   "metadata": {},
   "outputs": [],
   "source": [
    "tracked_item_categories = categories[categories.asin.isin(to_track)].category_1.values"
   ]
  },
  {
   "cell_type": "markdown",
   "id": "aa0f5555",
   "metadata": {},
   "source": [
    "## Training"
   ]
  },
  {
   "cell_type": "code",
   "execution_count": 85,
   "id": "33bb6eb6",
   "metadata": {},
   "outputs": [],
   "source": [
    "to_track_len = len(to_track)\n",
    "superepochs = 5"
   ]
  },
  {
   "cell_type": "code",
   "execution_count": 82,
   "id": "f6e3a3b1",
   "metadata": {},
   "outputs": [],
   "source": [
    "model = LightFM(no_components=100, learning_schedule='adadelta', loss='warp')"
   ]
  },
  {
   "cell_type": "code",
   "execution_count": 83,
   "id": "27f7f29c",
   "metadata": {},
   "outputs": [
    {
     "data": {
      "application/vnd.jupyter.widget-view+json": {
       "model_id": "e0be3dceb6ad44619ac7ba554eec2534",
       "version_major": 2,
       "version_minor": 0
      },
      "text/plain": [
       "  0%|          | 0/5 [00:00<?, ?it/s]"
      ]
     },
     "metadata": {},
     "output_type": "display_data"
    },
    {
     "name": "stderr",
     "output_type": "stream",
     "text": [
      "\n",
      "Epoch:   0%|          | 0/10 [00:00<?, ?it/s]\u001b[A\n",
      "Epoch:  10%|█         | 1/10 [00:03<00:30,  3.42s/it]\u001b[A\n",
      "Epoch:  20%|██        | 2/10 [00:06<00:27,  3.45s/it]\u001b[A\n",
      "Epoch:  30%|███       | 3/10 [00:10<00:23,  3.33s/it]\u001b[A\n",
      "Epoch:  40%|████      | 4/10 [00:13<00:19,  3.25s/it]\u001b[A\n",
      "Epoch:  50%|█████     | 5/10 [00:16<00:15,  3.14s/it]\u001b[A\n",
      "Epoch:  60%|██████    | 6/10 [00:18<00:12,  3.04s/it]\u001b[A\n",
      "Epoch:  70%|███████   | 7/10 [00:21<00:08,  2.93s/it]\u001b[A\n",
      "Epoch:  80%|████████  | 8/10 [00:24<00:05,  2.85s/it]\u001b[A\n",
      "Epoch:  90%|█████████ | 9/10 [00:26<00:02,  2.76s/it]\u001b[A\n",
      "Epoch: 100%|██████████| 10/10 [00:29<00:00,  2.95s/it]\u001b[A\n",
      "\n",
      "Epoch:   0%|          | 0/10 [00:00<?, ?it/s]\u001b[A\n",
      "Epoch:  10%|█         | 1/10 [00:02<00:22,  2.49s/it]\u001b[A\n",
      "Epoch:  20%|██        | 2/10 [00:04<00:19,  2.49s/it]\u001b[A\n",
      "Epoch:  30%|███       | 3/10 [00:07<00:17,  2.48s/it]\u001b[A\n",
      "Epoch:  40%|████      | 4/10 [00:10<00:15,  2.51s/it]\u001b[A\n",
      "Epoch:  50%|█████     | 5/10 [00:12<00:12,  2.53s/it]\u001b[A\n",
      "Epoch:  60%|██████    | 6/10 [00:15<00:10,  2.55s/it]\u001b[A\n",
      "Epoch:  70%|███████   | 7/10 [00:17<00:07,  2.53s/it]\u001b[A\n",
      "Epoch:  80%|████████  | 8/10 [00:20<00:05,  2.52s/it]\u001b[A\n",
      "Epoch:  90%|█████████ | 9/10 [00:22<00:02,  2.50s/it]\u001b[A\n",
      "Epoch: 100%|██████████| 10/10 [00:25<00:00,  2.51s/it]\u001b[A\n",
      "\n",
      "Epoch:   0%|          | 0/10 [00:00<?, ?it/s]\u001b[A\n",
      "Epoch:  10%|█         | 1/10 [00:02<00:19,  2.22s/it]\u001b[A\n",
      "Epoch:  20%|██        | 2/10 [00:04<00:18,  2.27s/it]\u001b[A\n",
      "Epoch:  30%|███       | 3/10 [00:06<00:16,  2.36s/it]\u001b[A\n",
      "Epoch:  40%|████      | 4/10 [00:09<00:14,  2.47s/it]\u001b[A\n",
      "Epoch:  50%|█████     | 5/10 [00:12<00:12,  2.48s/it]\u001b[A\n",
      "Epoch:  60%|██████    | 6/10 [00:14<00:09,  2.46s/it]\u001b[A\n",
      "Epoch:  70%|███████   | 7/10 [00:16<00:07,  2.41s/it]\u001b[A\n",
      "Epoch:  80%|████████  | 8/10 [00:19<00:04,  2.44s/it]\u001b[A\n",
      "Epoch:  90%|█████████ | 9/10 [00:21<00:02,  2.46s/it]\u001b[A\n",
      "Epoch: 100%|██████████| 10/10 [00:24<00:00,  2.43s/it]\u001b[A\n",
      "\n",
      "Epoch:   0%|          | 0/10 [00:00<?, ?it/s]\u001b[A\n",
      "Epoch:  10%|█         | 1/10 [00:02<00:20,  2.26s/it]\u001b[A\n",
      "Epoch:  20%|██        | 2/10 [00:04<00:18,  2.28s/it]\u001b[A\n",
      "Epoch:  30%|███       | 3/10 [00:06<00:16,  2.33s/it]\u001b[A\n",
      "Epoch:  40%|████      | 4/10 [00:09<00:14,  2.35s/it]\u001b[A\n",
      "Epoch:  50%|█████     | 5/10 [00:11<00:11,  2.30s/it]\u001b[A\n",
      "Epoch:  60%|██████    | 6/10 [00:13<00:09,  2.32s/it]\u001b[A\n",
      "Epoch:  70%|███████   | 7/10 [00:16<00:07,  2.36s/it]\u001b[A\n",
      "Epoch:  80%|████████  | 8/10 [00:18<00:04,  2.39s/it]\u001b[A\n",
      "Epoch:  90%|█████████ | 9/10 [00:21<00:02,  2.40s/it]\u001b[A\n",
      "Epoch: 100%|██████████| 10/10 [00:23<00:00,  2.36s/it]\u001b[A\n",
      "\n",
      "Epoch:   0%|          | 0/10 [00:00<?, ?it/s]\u001b[A\n",
      "Epoch:  10%|█         | 1/10 [00:02<00:21,  2.40s/it]\u001b[A\n",
      "Epoch:  20%|██        | 2/10 [00:04<00:19,  2.40s/it]\u001b[A\n",
      "Epoch:  30%|███       | 3/10 [00:07<00:16,  2.40s/it]\u001b[A\n",
      "Epoch:  40%|████      | 4/10 [00:09<00:14,  2.40s/it]\u001b[A\n",
      "Epoch:  50%|█████     | 5/10 [00:12<00:12,  2.40s/it]\u001b[A\n",
      "Epoch:  60%|██████    | 6/10 [00:14<00:09,  2.41s/it]\u001b[A\n",
      "Epoch:  70%|███████   | 7/10 [00:16<00:07,  2.41s/it]\u001b[A\n",
      "Epoch:  80%|████████  | 8/10 [00:19<00:04,  2.42s/it]\u001b[A\n",
      "Epoch:  90%|█████████ | 9/10 [00:21<00:02,  2.42s/it]\u001b[A\n",
      "Epoch: 100%|██████████| 10/10 [00:24<00:00,  2.41s/it]\u001b[A\n"
     ]
    }
   ],
   "source": [
    "embeddings = np.zeros((to_track_len, superepochs, 100))\n",
    "for i in tqdm(range(superepochs)):\n",
    "    model.fit_partial(interactions, verbose=False, epochs=10, num_threads=THREADS)\n",
    "    for j in range(to_track_len):\n",
    "        e = get_item_embedding(model, dataset, to_track[j])\n",
    "        embeddings[j, i, :] = e"
   ]
  },
  {
   "cell_type": "code",
   "execution_count": 86,
   "id": "f8a8fe7a",
   "metadata": {},
   "outputs": [],
   "source": [
    "reshaped_embeddings = embeddings.reshape((to_track_len * superepochs, 100))"
   ]
  },
  {
   "cell_type": "code",
   "execution_count": 87,
   "id": "e486eaea",
   "metadata": {},
   "outputs": [
    {
     "data": {
      "text/plain": [
       "PCA(n_components=2)"
      ]
     },
     "execution_count": 87,
     "metadata": {},
     "output_type": "execute_result"
    }
   ],
   "source": [
    "pca = PCA(n_components=2)\n",
    "pca.fit(reshaped_embeddings)"
   ]
  },
  {
   "cell_type": "code",
   "execution_count": 98,
   "id": "3104306d",
   "metadata": {},
   "outputs": [
    {
     "data": {
      "image/png": "[encoded data removed]",
      "text/plain": [
       "<Figure size 432x288 with 1 Axes>"
      ]
     },
     "metadata": {
      "needs_background": "light"
     },
     "output_type": "display_data"
    }
   ],
   "source": [
    "for i in range(to_track_len):\n",
    "    item = embeddings[i, :, :]\n",
    "    transformed_item = pca.transform(item)\n",
    "    plt.scatter(transformed_item[:, 0], transformed_item[:, 1])"
   ]
  },
  {
   "cell_type": "code",
   "execution_count": 102,
   "id": "e7ad1f4c",
   "metadata": {},
   "outputs": [
    {
     "data": {
      "image/png": "[encoded data removed]",
      "text/plain": [
       "<Figure size 432x288 with 1 Axes>"
      ]
     },
     "metadata": {
      "needs_background": "light"
     },
     "output_type": "display_data"
    }
   ],
   "source": [
    "for i in range(to_track_len):\n",
    "    item = embeddings[i, :, :]\n",
    "    transformed_item = pca.transform(item)\n",
    "    if tracked_item_categories[i] == \"Women\":\n",
    "        plt.scatter(transformed_item[:, 0], transformed_item[:, 1], color = 'blue')\n",
    "    if tracked_item_categories[i] == \"Men\":\n",
    "        plt.scatter(transformed_item[:, 0], transformed_item[:, 1], color = 'red')"
   ]
  }
 ],
 "metadata": {
  "kernelspec": {
   "display_name": "Python 3",
   "language": "python",
   "name": "python3"
  },
  "language_info": {
   "codemirror_mode": {
    "name": "ipython",
    "version": 3
   },
   "file_extension": ".py",
   "mimetype": "text/x-python",
   "name": "python",
   "nbconvert_exporter": "python",
   "pygments_lexer": "ipython3",
   "version": "3.6.13"
  }
 },
 "nbformat": 4,
 "nbformat_minor": 5
}
