{
 "cells": [
  {
   "cell_type": "code",
   "execution_count": 4,
   "id": "e3f146a0",
   "metadata": {},
   "outputs": [],
   "source": [
    "import gzip\n",
    "import json\n",
    "import pickle\n",
    "import scipy.sparse\n",
    "\n",
    "import numpy as np\n",
    "import pandas as pd\n",
    "import matplotlib.pyplot as plt\n",
    "\n",
    "from tqdm.notebook import tqdm\n",
    "from scipy import spatial\n",
    "\n",
    "from lightfm import LightFM\n",
    "from lightfm.evaluation import precision_at_k\n",
    "from lightfm.data import Dataset"
   ]
  },
  {
   "cell_type": "code",
   "execution_count": 5,
   "id": "a1a818d7",
   "metadata": {},
   "outputs": [],
   "source": [
    "THREADS = 8"
   ]
  },
  {
   "cell_type": "markdown",
   "id": "3cd3f9b9",
   "metadata": {},
   "source": [
    "## Preparing dataset"
   ]
  },
  {
   "cell_type": "code",
   "execution_count": null,
   "id": "b75ce5c6",
   "metadata": {},
   "outputs": [],
   "source": [
    "df = pd.read_csv('/pio/scratch/1/i313924/slim_ratings.csv',\n",
    "                 names=['asin', 'reviewerID', 'overall', 'unixReviewTime'])"
   ]
  },
  {
   "cell_type": "code",
   "execution_count": null,
   "id": "21445b09",
   "metadata": {},
   "outputs": [],
   "source": [
    "df"
   ]
  },
  {
   "cell_type": "code",
   "execution_count": null,
   "id": "87950714",
   "metadata": {},
   "outputs": [],
   "source": [
    "len(df)"
   ]
  },
  {
   "cell_type": "code",
   "execution_count": 13,
   "id": "45139c16",
   "metadata": {},
   "outputs": [],
   "source": [
    "dataset = Dataset()\n",
    "dataset.fit((x for x in df['reviewerID']), (x for x in df['asin']))\n",
    "with open('/pio/scratch/1/i313924/lightfm_data/slim_dataset.pkl', 'wb') as f:\n",
    "    pickle.dump(dataset, f, -1)"
   ]
  },
  {
   "cell_type": "code",
   "execution_count": 14,
   "id": "b32b2ed4",
   "metadata": {},
   "outputs": [
    {
     "data": {
      "text/html": [
       "<div>\n",
       "<style scoped>\n",
       "    .dataframe tbody tr th:only-of-type {\n",
       "        vertical-align: middle;\n",
       "    }\n",
       "\n",
       "    .dataframe tbody tr th {\n",
       "        vertical-align: top;\n",
       "    }\n",
       "\n",
       "    .dataframe thead th {\n",
       "        text-align: right;\n",
       "    }\n",
       "</style>\n",
       "<table border=\"1\" class=\"dataframe\">\n",
       "  <thead>\n",
       "    <tr style=\"text-align: right;\">\n",
       "      <th></th>\n",
       "      <th>asin</th>\n",
       "      <th>reviewerID</th>\n",
       "      <th>overall</th>\n",
       "      <th>unixReviewTime</th>\n",
       "    </tr>\n",
       "  </thead>\n",
       "  <tbody>\n",
       "    <tr>\n",
       "      <th>0</th>\n",
       "      <td>0871167042</td>\n",
       "      <td>A22ZX01TPWQY4G</td>\n",
       "      <td>2.0</td>\n",
       "      <td>1409702400</td>\n",
       "    </tr>\n",
       "    <tr>\n",
       "      <th>1</th>\n",
       "      <td>1519588135</td>\n",
       "      <td>A2S5EPJ451WL3I</td>\n",
       "      <td>3.0</td>\n",
       "      <td>1494633600</td>\n",
       "    </tr>\n",
       "    <tr>\n",
       "      <th>2</th>\n",
       "      <td>1519588135</td>\n",
       "      <td>A5UM17P1E7DUQ</td>\n",
       "      <td>5.0</td>\n",
       "      <td>1494115200</td>\n",
       "    </tr>\n",
       "    <tr>\n",
       "      <th>3</th>\n",
       "      <td>3979050432</td>\n",
       "      <td>A3GOUQIIW470Q</td>\n",
       "      <td>5.0</td>\n",
       "      <td>1455926400</td>\n",
       "    </tr>\n",
       "    <tr>\n",
       "      <th>4</th>\n",
       "      <td>3979050432</td>\n",
       "      <td>A1HIISJWW6007Z</td>\n",
       "      <td>4.0</td>\n",
       "      <td>1454457600</td>\n",
       "    </tr>\n",
       "    <tr>\n",
       "      <th>...</th>\n",
       "      <td>...</td>\n",
       "      <td>...</td>\n",
       "      <td>...</td>\n",
       "      <td>...</td>\n",
       "    </tr>\n",
       "    <tr>\n",
       "      <th>2384657</th>\n",
       "      <td>B01HJDVCJI</td>\n",
       "      <td>AQMUXDDCLJSSV</td>\n",
       "      <td>4.0</td>\n",
       "      <td>1535932800</td>\n",
       "    </tr>\n",
       "    <tr>\n",
       "      <th>2384658</th>\n",
       "      <td>B01HJDVCJI</td>\n",
       "      <td>AGFW667QNHDOY</td>\n",
       "      <td>3.0</td>\n",
       "      <td>1535155200</td>\n",
       "    </tr>\n",
       "    <tr>\n",
       "      <th>2384659</th>\n",
       "      <td>B01HJDVCJI</td>\n",
       "      <td>A3JTBJC5WSEZ7Q</td>\n",
       "      <td>3.0</td>\n",
       "      <td>1535155200</td>\n",
       "    </tr>\n",
       "    <tr>\n",
       "      <th>2384660</th>\n",
       "      <td>B01HJDVCJI</td>\n",
       "      <td>A7B48AJT6IC0A</td>\n",
       "      <td>4.0</td>\n",
       "      <td>1534118400</td>\n",
       "    </tr>\n",
       "    <tr>\n",
       "      <th>2384661</th>\n",
       "      <td>B01HJD4BBE</td>\n",
       "      <td>A21A7XKWPRJQ3Q</td>\n",
       "      <td>3.0</td>\n",
       "      <td>1528502400</td>\n",
       "    </tr>\n",
       "  </tbody>\n",
       "</table>\n",
       "<p>2384662 rows × 4 columns</p>\n",
       "</div>"
      ],
      "text/plain": [
       "               asin      reviewerID  overall  unixReviewTime\n",
       "0        0871167042  A22ZX01TPWQY4G      2.0      1409702400\n",
       "1        1519588135  A2S5EPJ451WL3I      3.0      1494633600\n",
       "2        1519588135   A5UM17P1E7DUQ      5.0      1494115200\n",
       "3        3979050432   A3GOUQIIW470Q      5.0      1455926400\n",
       "4        3979050432  A1HIISJWW6007Z      4.0      1454457600\n",
       "...             ...             ...      ...             ...\n",
       "2384657  B01HJDVCJI   AQMUXDDCLJSSV      4.0      1535932800\n",
       "2384658  B01HJDVCJI   AGFW667QNHDOY      3.0      1535155200\n",
       "2384659  B01HJDVCJI  A3JTBJC5WSEZ7Q      3.0      1535155200\n",
       "2384660  B01HJDVCJI   A7B48AJT6IC0A      4.0      1534118400\n",
       "2384661  B01HJD4BBE  A21A7XKWPRJQ3Q      3.0      1528502400\n",
       "\n",
       "[2384662 rows x 4 columns]"
      ]
     },
     "execution_count": 14,
     "metadata": {},
     "output_type": "execute_result"
    }
   ],
   "source": [
    "df"
   ]
  },
  {
   "cell_type": "markdown",
   "id": "aa0f5555",
   "metadata": {},
   "source": [
    "## Preparing interactions"
   ]
  },
  {
   "cell_type": "code",
   "execution_count": 15,
   "id": "63a84bfc",
   "metadata": {},
   "outputs": [],
   "source": [
    "df = df.loc[(df['overall'] >= 4.0)]"
   ]
  },
  {
   "cell_type": "code",
   "execution_count": 16,
   "id": "95a088b0",
   "metadata": {},
   "outputs": [
    {
     "data": {
      "text/plain": [
       "1939517"
      ]
     },
     "execution_count": 16,
     "metadata": {},
     "output_type": "execute_result"
    }
   ],
   "source": [
    "len(df)"
   ]
  },
  {
   "cell_type": "code",
   "execution_count": 17,
   "id": "358e202c",
   "metadata": {},
   "outputs": [],
   "source": [
    "interactions = dataset.build_interactions(\n",
    "    (\n",
    "        (val[\"reviewerID\"], val[\"asin\"])\n",
    "        for idx, val in df.iterrows()\n",
    "    )\n",
    ")[1]\n",
    "scipy.sparse.save_npz('/pio/scratch/1/i313924/lightfm_data/slim_interactions.npz', interactions)"
   ]
  },
  {
   "cell_type": "markdown",
   "id": "a8ee6e33",
   "metadata": {},
   "source": [
    "## Training model"
   ]
  },
  {
   "cell_type": "code",
   "execution_count": 7,
   "id": "5f951bd1",
   "metadata": {},
   "outputs": [],
   "source": [
    "interactions = scipy.sparse.load_npz('/pio/scratch/1/i313924/data/lightfm_data/slim_interactions.npz')"
   ]
  },
  {
   "cell_type": "code",
   "execution_count": 9,
   "id": "f6e3a3b1",
   "metadata": {},
   "outputs": [],
   "source": [
    "model = LightFM(no_components=30, learning_schedule='adadelta', loss='warp')"
   ]
  },
  {
   "cell_type": "code",
   "execution_count": 10,
   "id": "ef626756",
   "metadata": {},
   "outputs": [
    {
     "name": "stderr",
     "output_type": "stream",
     "text": [
      "Epoch: 100%|██████████| 300/300 [09:43<00:00,  1.95s/it]\n"
     ]
    },
    {
     "data": {
      "text/plain": [
       "<lightfm.lightfm.LightFM at 0x7f971e4014e0>"
      ]
     },
     "execution_count": 10,
     "metadata": {},
     "output_type": "execute_result"
    }
   ],
   "source": [
    "model.fit(interactions, verbose=True, epochs=300, num_threads=THREADS)"
   ]
  },
  {
   "cell_type": "code",
   "execution_count": 11,
   "id": "7512d4eb",
   "metadata": {},
   "outputs": [],
   "source": [
    "# https://bugs.python.org/issue25465 ?\n",
    "pickle.dump(model, open('/pio/scratch/1/i313924/data/lightfm_data/warp_model_300_epochs_30_el_slim.pkl', 'wb'), protocol=4)"
   ]
  },
  {
   "cell_type": "code",
   "execution_count": 7,
   "id": "27f7f29c",
   "metadata": {},
   "outputs": [
    {
     "name": "stderr",
     "output_type": "stream",
     "text": [
      "Epoch: 100%|██████████████████████████████████████████████████████████████████████| 100/100 [1:22:22<00:00, 49.42s/it]\n"
     ]
    }
   ],
   "source": [
    "# evaluating precision is super time-consuming\n",
    "# precision = []\n",
    "# for i in tqdm(range(15)):\n",
    "#     model.fit_partial(interactions, verbose=False, epochs=10, num_threads=THREADS)\n",
    "#     current_precision = precision_at_k(model, interactions, k=5, num_threads=THREADS)\n",
    "#     print(current_precision)\n",
    "#     precision.append(current_precision)\n",
    "    \n",
    "# plt.plot(precision)\n",
    "# pickle.dump(model, open('/pio/scratch/1/i313924/lightfm_data/warp_model.pkl', 'wb'))"
   ]
  }
 ],
 "metadata": {
  "kernelspec": {
   "display_name": "Python 3",
   "language": "python",
   "name": "python3"
  },
  "language_info": {
   "codemirror_mode": {
    "name": "ipython",
    "version": 3
   },
   "file_extension": ".py",
   "mimetype": "text/x-python",
   "name": "python",
   "nbconvert_exporter": "python",
   "pygments_lexer": "ipython3",
   "version": "3.6.13"
  }
 },
 "nbformat": 4,
 "nbformat_minor": 5
}
