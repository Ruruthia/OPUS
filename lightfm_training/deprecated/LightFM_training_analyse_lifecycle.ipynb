{
 "cells": [
  {
   "cell_type": "code",
   "execution_count": 73,
   "metadata": {
    "collapsed": true
   },
   "outputs": [],
   "source": [
    "import pickle\n",
    "\n",
    "import pandas as pd\n",
    "import scipy.sparse\n",
    "from lightfm import LightFM\n",
    "from lightfm.data import Dataset"
   ]
  },
  {
   "cell_type": "code",
   "execution_count": 74,
   "outputs": [],
   "source": [
    "THREADS = 8"
   ],
   "metadata": {
    "collapsed": false,
    "pycharm": {
     "name": "#%%\n"
    }
   }
  },
  {
   "cell_type": "code",
   "execution_count": 75,
   "outputs": [],
   "source": [
    "df = pd.read_csv('/pio/scratch/1/i313924/data/train_data/slim_ratings.csv',\n",
    "                 names=['asin', 'reviewerID', 'overall', 'unixReviewTime'])"
   ],
   "metadata": {
    "collapsed": false,
    "pycharm": {
     "name": "#%%\n"
    }
   }
  },
  {
   "cell_type": "markdown",
   "source": [
    "## Chosing item(s)"
   ],
   "metadata": {
    "collapsed": false,
    "pycharm": {
     "name": "#%% md\n"
    }
   }
  },
  {
   "cell_type": "code",
   "execution_count": 76,
   "outputs": [],
   "source": [
    "df = df.drop_duplicates()\n",
    "df = df.loc[(df['overall'] >= 4.0)]\n",
    "df['date'] = pd.to_datetime(df.unixReviewTime, unit='s')"
   ],
   "metadata": {
    "collapsed": false,
    "pycharm": {
     "name": "#%%\n"
    }
   }
  },
  {
   "cell_type": "code",
   "execution_count": 77,
   "outputs": [
    {
     "data": {
      "text/plain": "B00SU5244M    6119\nB00SU52460    6119\nB00X8AMIDG    6096\nB00WRGPHY4    6096\nB00WBHSMOQ    6092\n              ... \nB01AJWWXNA       1\nB00J3QHF2I       1\nB01A2JGYRQ       1\nB015VLL15A       1\nB00J02CG5G       1\nName: asin, Length: 200255, dtype: int64"
     },
     "execution_count": 77,
     "metadata": {},
     "output_type": "execute_result"
    }
   ],
   "source": [
    "df['asin'].value_counts()"
   ],
   "metadata": {
    "collapsed": false,
    "pycharm": {
     "name": "#%%\n"
    }
   }
  },
  {
   "cell_type": "code",
   "execution_count": 78,
   "outputs": [
    {
     "name": "stdout",
     "output_type": "stream",
     "text": [
      "2010-01-01 - 2011-01-01\n",
      "5\n",
      "2011-01-01 - 2012-01-01\n",
      "15\n",
      "2012-01-01 - 2013-01-01\n",
      "33\n",
      "2013-01-01 - 2014-01-01\n",
      "173\n",
      "2014-01-01 - 2015-01-01\n",
      "558\n",
      "2015-01-01 - 2016-01-01\n",
      "1304\n",
      "2016-01-01 - 2017-01-01\n",
      "1949\n",
      "2017-01-01 - 2018-01-01\n",
      "1522\n",
      "2018-01-01 - 2019-01-01\n",
      "542\n",
      "2019-01-01 - 2020-01-01\n",
      "0\n"
     ]
    }
   ],
   "source": [
    "for i in range(0, 10):\n",
    "    current_year = 2010 + i\n",
    "    next_year = current_year + 1\n",
    "    print(f'{current_year}-01-01 - {next_year}-01-01')\n",
    "    print(len(df.loc[(df.asin == \"B00SU52460\") & (df.date > f'{current_year}-01-01') & (df.date < f'{next_year}-01-01')]))"
   ],
   "metadata": {
    "collapsed": false,
    "pycharm": {
     "name": "#%%\n"
    }
   }
  },
  {
   "cell_type": "code",
   "execution_count": 79,
   "outputs": [],
   "source": [
    "# B00SU52460: 2013 - 2019"
   ],
   "metadata": {
    "collapsed": false,
    "pycharm": {
     "name": "#%%\n"
    }
   }
  },
  {
   "cell_type": "code",
   "execution_count": 80,
   "outputs": [],
   "source": [
    "for i in range(3, 9):\n",
    "    df.loc[(df.asin == \"B00SU52460\") & (df.date > f'201{i}-01-01') & (df.date < f'201{i + 1}-01-01'), ['asin']] = f'B00SU52460_201{i}'"
   ],
   "metadata": {
    "collapsed": false,
    "pycharm": {
     "name": "#%%\n"
    }
   }
  },
  {
   "cell_type": "code",
   "execution_count": 81,
   "outputs": [],
   "source": [
    "df = df.drop(df[df.asin == \"B00SU52460\"].index)"
   ],
   "metadata": {
    "collapsed": false,
    "pycharm": {
     "name": "#%%\n"
    }
   }
  },
  {
   "cell_type": "markdown",
   "source": [
    "## Preparing dataset"
   ],
   "metadata": {
    "collapsed": false,
    "pycharm": {
     "name": "#%% md\n"
    }
   }
  },
  {
   "cell_type": "code",
   "execution_count": 82,
   "outputs": [],
   "source": [
    "dataset = Dataset()\n",
    "dataset.fit((x for x in df['reviewerID']), (x for x in df['asin']))\n",
    "with open('/pio/scratch/1/i313924/data/lightfm_data/B00SU52460_dataset.pkl', 'wb') as f:\n",
    "    pickle.dump(dataset, f, -1)"
   ],
   "metadata": {
    "collapsed": false,
    "pycharm": {
     "name": "#%%\n"
    }
   }
  },
  {
   "cell_type": "markdown",
   "source": [
    "## Preparing interactions"
   ],
   "metadata": {
    "collapsed": false,
    "pycharm": {
     "name": "#%% md\n"
    }
   }
  },
  {
   "cell_type": "code",
   "execution_count": 83,
   "outputs": [],
   "source": [
    "interactions = dataset.build_interactions(\n",
    "    (\n",
    "        (val[\"reviewerID\"], val[\"asin\"])\n",
    "        for idx, val in df.iterrows()\n",
    "    )\n",
    ")[1]\n",
    "scipy.sparse.save_npz('/pio/scratch/1/i313924/data/lightfm_data/B00SU52460_interactions.npz', interactions)"
   ],
   "metadata": {
    "collapsed": false,
    "pycharm": {
     "name": "#%%\n"
    }
   }
  },
  {
   "cell_type": "markdown",
   "source": [
    "## Training model"
   ],
   "metadata": {
    "collapsed": false,
    "pycharm": {
     "name": "#%% md\n"
    }
   }
  },
  {
   "cell_type": "code",
   "execution_count": 84,
   "outputs": [],
   "source": [
    "model = LightFM(no_components=100, learning_schedule='adadelta', loss='warp')"
   ],
   "metadata": {
    "collapsed": false,
    "pycharm": {
     "name": "#%%\n"
    }
   }
  },
  {
   "cell_type": "code",
   "execution_count": 85,
   "outputs": [
    {
     "name": "stderr",
     "output_type": "stream",
     "text": [
      "Epoch: 100%|██████████| 1000/1000 [29:38<00:00,  1.78s/it]\n"
     ]
    },
    {
     "data": {
      "text/plain": "<lightfm.lightfm.LightFM at 0x7f3de84c7358>"
     },
     "execution_count": 85,
     "metadata": {},
     "output_type": "execute_result"
    }
   ],
   "source": [
    "model.fit(interactions, verbose=True, epochs=1000, num_threads=THREADS)"
   ],
   "metadata": {
    "collapsed": false,
    "pycharm": {
     "name": "#%%\n"
    }
   }
  },
  {
   "cell_type": "code",
   "execution_count": 86,
   "outputs": [],
   "source": [
    "pickle.dump(model, open('/pio/scratch/1/i313924/data/lightfm_data/B00SU52460_model_1000_epochs.pkl', 'wb'), protocol=4)"
   ],
   "metadata": {
    "collapsed": false,
    "pycharm": {
     "name": "#%%\n"
    }
   }
  },
  {
   "cell_type": "code",
   "execution_count": null,
   "outputs": [],
   "source": [],
   "metadata": {
    "collapsed": false,
    "pycharm": {
     "name": "#%%\n"
    }
   }
  }
 ],
 "metadata": {
  "kernelspec": {
   "display_name": "Python 3",
   "language": "python",
   "name": "python3"
  },
  "language_info": {
   "codemirror_mode": {
    "name": "ipython",
    "version": 2
   },
   "file_extension": ".py",
   "mimetype": "text/x-python",
   "name": "python",
   "nbconvert_exporter": "python",
   "pygments_lexer": "ipython2",
   "version": "2.7.6"
  }
 },
 "nbformat": 4,
 "nbformat_minor": 0
}