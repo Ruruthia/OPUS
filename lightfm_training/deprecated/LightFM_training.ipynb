{
 "cells": [
  {
   "cell_type": "code",
   "execution_count": 1,
   "id": "e3f146a0",
   "metadata": {},
   "outputs": [],
   "source": [
    "import gzip\n",
    "import json\n",
    "import pickle\n",
    "import scipy.sparse\n",
    "\n",
    "import numpy as np\n",
    "import pandas as pd\n",
    "import matplotlib.pyplot as plt\n",
    "\n",
    "from tqdm.notebook import tqdm\n",
    "from scipy import spatial\n",
    "\n",
    "from lightfm import LightFM\n",
    "from lightfm.evaluation import precision_at_k\n",
    "from lightfm.data import Dataset"
   ]
  },
  {
   "cell_type": "code",
   "execution_count": 2,
   "id": "a1a818d7",
   "metadata": {},
   "outputs": [],
   "source": [
    "THREADS = 8"
   ]
  },
  {
   "cell_type": "markdown",
   "id": "3cd3f9b9",
   "metadata": {},
   "source": [
    "## Preparing dataset"
   ]
  },
  {
   "cell_type": "code",
   "execution_count": 3,
   "id": "b75ce5c6",
   "metadata": {},
   "outputs": [],
   "source": [
    "df = pd.read_csv('/pio/scratch/1/recommender_systems/raw/Amazon/Clothing_Shoes_and_Jewelry.csv',\n",
    "                 names=['asin', 'reviewerID', 'overall', 'unixReviewTime'])"
   ]
  },
  {
   "cell_type": "code",
   "execution_count": 4,
   "id": "21445b09",
   "metadata": {},
   "outputs": [
    {
     "data": {
      "text/html": [
       "<div>\n",
       "<style scoped>\n",
       "    .dataframe tbody tr th:only-of-type {\n",
       "        vertical-align: middle;\n",
       "    }\n",
       "\n",
       "    .dataframe tbody tr th {\n",
       "        vertical-align: top;\n",
       "    }\n",
       "\n",
       "    .dataframe thead th {\n",
       "        text-align: right;\n",
       "    }\n",
       "</style>\n",
       "<table border=\"1\" class=\"dataframe\">\n",
       "  <thead>\n",
       "    <tr style=\"text-align: right;\">\n",
       "      <th></th>\n",
       "      <th>asin</th>\n",
       "      <th>reviewerID</th>\n",
       "      <th>overall</th>\n",
       "      <th>unixReviewTime</th>\n",
       "    </tr>\n",
       "  </thead>\n",
       "  <tbody>\n",
       "    <tr>\n",
       "      <th>0</th>\n",
       "      <td>0871167042</td>\n",
       "      <td>A2IC3NZN488KWK</td>\n",
       "      <td>5.0</td>\n",
       "      <td>1399161600</td>\n",
       "    </tr>\n",
       "    <tr>\n",
       "      <th>1</th>\n",
       "      <td>0871167042</td>\n",
       "      <td>A3OT9BYASFGU2X</td>\n",
       "      <td>4.0</td>\n",
       "      <td>1398470400</td>\n",
       "    </tr>\n",
       "    <tr>\n",
       "      <th>2</th>\n",
       "      <td>0871167042</td>\n",
       "      <td>A28GK1G2KDXHRP</td>\n",
       "      <td>5.0</td>\n",
       "      <td>1397692800</td>\n",
       "    </tr>\n",
       "    <tr>\n",
       "      <th>3</th>\n",
       "      <td>0871167042</td>\n",
       "      <td>A3NFXFEKW8OK0E</td>\n",
       "      <td>5.0</td>\n",
       "      <td>1397606400</td>\n",
       "    </tr>\n",
       "    <tr>\n",
       "      <th>4</th>\n",
       "      <td>0871167042</td>\n",
       "      <td>A3I6G5TKBVJEK9</td>\n",
       "      <td>5.0</td>\n",
       "      <td>1397520000</td>\n",
       "    </tr>\n",
       "    <tr>\n",
       "      <th>...</th>\n",
       "      <td>...</td>\n",
       "      <td>...</td>\n",
       "      <td>...</td>\n",
       "      <td>...</td>\n",
       "    </tr>\n",
       "    <tr>\n",
       "      <th>32292094</th>\n",
       "      <td>B01HJHMQW6</td>\n",
       "      <td>A2ATY4H4A3RK05</td>\n",
       "      <td>5.0</td>\n",
       "      <td>1482710400</td>\n",
       "    </tr>\n",
       "    <tr>\n",
       "      <th>32292095</th>\n",
       "      <td>B01HJHA4W0</td>\n",
       "      <td>ACNWGCHFOPZ3N</td>\n",
       "      <td>3.0</td>\n",
       "      <td>1497830400</td>\n",
       "    </tr>\n",
       "    <tr>\n",
       "      <th>32292096</th>\n",
       "      <td>B01HJI0G5Y</td>\n",
       "      <td>A1R7H90HCU8WJK</td>\n",
       "      <td>3.0</td>\n",
       "      <td>1510704000</td>\n",
       "    </tr>\n",
       "    <tr>\n",
       "      <th>32292097</th>\n",
       "      <td>B01HJI0G5Y</td>\n",
       "      <td>A3VZ29X7SM3L09</td>\n",
       "      <td>5.0</td>\n",
       "      <td>1500768000</td>\n",
       "    </tr>\n",
       "    <tr>\n",
       "      <th>32292098</th>\n",
       "      <td>B01HJI0G5Y</td>\n",
       "      <td>A38B0V8BYSRUAK</td>\n",
       "      <td>4.0</td>\n",
       "      <td>1497052800</td>\n",
       "    </tr>\n",
       "  </tbody>\n",
       "</table>\n",
       "<p>32292099 rows × 4 columns</p>\n",
       "</div>"
      ],
      "text/plain": [
       "                asin      reviewerID  overall  unixReviewTime\n",
       "0         0871167042  A2IC3NZN488KWK      5.0      1399161600\n",
       "1         0871167042  A3OT9BYASFGU2X      4.0      1398470400\n",
       "2         0871167042  A28GK1G2KDXHRP      5.0      1397692800\n",
       "3         0871167042  A3NFXFEKW8OK0E      5.0      1397606400\n",
       "4         0871167042  A3I6G5TKBVJEK9      5.0      1397520000\n",
       "...              ...             ...      ...             ...\n",
       "32292094  B01HJHMQW6  A2ATY4H4A3RK05      5.0      1482710400\n",
       "32292095  B01HJHA4W0   ACNWGCHFOPZ3N      3.0      1497830400\n",
       "32292096  B01HJI0G5Y  A1R7H90HCU8WJK      3.0      1510704000\n",
       "32292097  B01HJI0G5Y  A3VZ29X7SM3L09      5.0      1500768000\n",
       "32292098  B01HJI0G5Y  A38B0V8BYSRUAK      4.0      1497052800\n",
       "\n",
       "[32292099 rows x 4 columns]"
      ]
     },
     "execution_count": 4,
     "metadata": {},
     "output_type": "execute_result"
    }
   ],
   "source": [
    "df"
   ]
  },
  {
   "cell_type": "code",
   "execution_count": 5,
   "id": "87950714",
   "metadata": {},
   "outputs": [
    {
     "data": {
      "text/plain": [
       "32292099"
      ]
     },
     "execution_count": 5,
     "metadata": {},
     "output_type": "execute_result"
    }
   ],
   "source": [
    "len(df)"
   ]
  },
  {
   "cell_type": "code",
   "execution_count": 6,
   "id": "45139c16",
   "metadata": {},
   "outputs": [],
   "source": [
    "dataset = Dataset()\n",
    "dataset.fit((x for x in df['reviewerID']), (x for x in df['asin']))\n",
    "with open('/pio/scratch/1/i313924/lightfm_data/dataset.pkl', 'wb') as f:\n",
    "    pickle.dump(dataset, f, -1)"
   ]
  },
  {
   "cell_type": "markdown",
   "id": "aa0f5555",
   "metadata": {},
   "source": [
    "## Preparing interactions"
   ]
  },
  {
   "cell_type": "code",
   "execution_count": 7,
   "id": "63a84bfc",
   "metadata": {},
   "outputs": [],
   "source": [
    "df = df.loc[(df['overall'] >= 4.0)]"
   ]
  },
  {
   "cell_type": "code",
   "execution_count": 8,
   "id": "95a088b0",
   "metadata": {},
   "outputs": [
    {
     "data": {
      "text/plain": [
       "25233044"
      ]
     },
     "execution_count": 8,
     "metadata": {},
     "output_type": "execute_result"
    }
   ],
   "source": [
    "len(df)"
   ]
  },
  {
   "cell_type": "code",
   "execution_count": 9,
   "id": "358e202c",
   "metadata": {},
   "outputs": [],
   "source": [
    "interactions = dataset.build_interactions(\n",
    "    (\n",
    "        (val[\"reviewerID\"], val[\"asin\"])\n",
    "        for idx, val in df.iterrows()\n",
    "    )\n",
    ")[1]\n",
    "scipy.sparse.save_npz('/pio/scratch/1/i313924/lightfm_data/interactions.npz', interactions)"
   ]
  },
  {
   "cell_type": "code",
   "execution_count": 11,
   "id": "4e365e4a",
   "metadata": {},
   "outputs": [],
   "source": [
    "sample_df = df.sample(frac=0.1, random_state=1)"
   ]
  },
  {
   "cell_type": "code",
   "execution_count": 12,
   "id": "fe84be50",
   "metadata": {},
   "outputs": [
    {
     "data": {
      "text/plain": [
       "2523304"
      ]
     },
     "execution_count": 12,
     "metadata": {},
     "output_type": "execute_result"
    }
   ],
   "source": [
    "len(sample_df)"
   ]
  },
  {
   "cell_type": "code",
   "execution_count": 13,
   "id": "946536f7",
   "metadata": {},
   "outputs": [],
   "source": [
    "interactions_sample = dataset.build_interactions(\n",
    "    (\n",
    "        (val[\"reviewerID\"], val[\"asin\"])\n",
    "        for idx, val in sample_df.iterrows()\n",
    "    )\n",
    ")[1]\n",
    "scipy.sparse.save_npz('/pio/scratch/1/i313924/lightfm_data/interactions_sample.npz', interactions_sample)"
   ]
  },
  {
   "cell_type": "markdown",
   "id": "a8ee6e33",
   "metadata": {},
   "source": [
    "## Training model"
   ]
  },
  {
   "cell_type": "code",
   "execution_count": 3,
   "id": "5f951bd1",
   "metadata": {},
   "outputs": [],
   "source": [
    "interactions = scipy.sparse.load_npz('/pio/scratch/1/i313924/lightfm_data/interactions.npz')"
   ]
  },
  {
   "cell_type": "code",
   "execution_count": 4,
   "id": "f6e3a3b1",
   "metadata": {},
   "outputs": [],
   "source": [
    "model = LightFM(no_components=100, learning_schedule='adadelta',loss='warp')"
   ]
  },
  {
   "cell_type": "code",
   "execution_count": 5,
   "id": "ef626756",
   "metadata": {},
   "outputs": [
    {
     "name": "stderr",
     "output_type": "stream",
     "text": [
      "Epoch: 100%|██████████| 300/300 [1:58:55<00:00, 23.79s/it]\n"
     ]
    },
    {
     "data": {
      "text/plain": [
       "<lightfm.lightfm.LightFM at 0x7f5e3847dba8>"
      ]
     },
     "execution_count": 5,
     "metadata": {},
     "output_type": "execute_result"
    }
   ],
   "source": [
    "model.fit(interactions, verbose=True, epochs=1000, num_threads=THREADS)"
   ]
  },
  {
   "cell_type": "code",
   "execution_count": 6,
   "id": "7512d4eb",
   "metadata": {},
   "outputs": [],
   "source": [
    "# https://bugs.python.org/issue25465 ?\n",
    "pickle.dump(model, open('/pio/scratch/1/i313924/lightfm_data/warp_model_1000_epochs.pkl', 'wb'), protocol=4)"
   ]
  },
  {
   "cell_type": "code",
   "execution_count": 7,
   "id": "27f7f29c",
   "metadata": {},
   "outputs": [
    {
     "name": "stderr",
     "output_type": "stream",
     "text": [
      "Epoch: 100%|██████████████████████████████████████████████████████████████████████| 100/100 [1:22:22<00:00, 49.42s/it]\n"
     ]
    }
   ],
   "source": [
    "# evaluating precision is super time-consuming\n",
    "# precision = []\n",
    "# for i in tqdm(range(15)):\n",
    "#     model.fit_partial(interactions, verbose=False, epochs=10, num_threads=THREADS)\n",
    "#     current_precision = precision_at_k(model, interactions, k=5, num_threads=THREADS)\n",
    "#     print(current_precision)\n",
    "#     precision.append(current_precision)\n",
    "    \n",
    "# plt.plot(precision)\n",
    "# pickle.dump(model, open('/pio/scratch/1/i313924/lightfm_data/warp_model.pkl', 'wb'))"
   ]
  }
 ],
 "metadata": {
  "kernelspec": {
   "display_name": "Python 3",
   "language": "python",
   "name": "python3"
  },
  "language_info": {
   "codemirror_mode": {
    "name": "ipython",
    "version": 3
   },
   "file_extension": ".py",
   "mimetype": "text/x-python",
   "name": "python",
   "nbconvert_exporter": "python",
   "pygments_lexer": "ipython3",
   "version": "3.6.13"
  }
 },
 "nbformat": 4,
 "nbformat_minor": 5
}