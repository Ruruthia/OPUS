{
 "cells": [
  {
   "cell_type": "code",
   "execution_count": 1,
   "id": "2bb4f757",
   "metadata": {},
   "outputs": [],
   "source": [
    "import random\n",
    "\n",
    "import pandas as pd\n",
    "\n",
    "from tqdm.auto import tqdm"
   ]
  },
  {
   "cell_type": "code",
   "execution_count": 2,
   "id": "fcd2fe3e",
   "metadata": {},
   "outputs": [],
   "source": [
    "categories = pd.read_json('/pio/scratch/1/recommender_systems/interim/Amazon/meta_Clothing_Shoes_and_Jewelry_categories.json', lines=True)"
   ]
  },
  {
   "cell_type": "code",
   "execution_count": 105,
   "id": "d757daf4",
   "metadata": {},
   "outputs": [],
   "source": [
    "def prepare_test_file(categories, path, test_set_size = 10000,\n",
    "                      category_type = \"category_1\", weighted_sample = True,\n",
    "                      min_counts = 0):\n",
    "    \n",
    "    counts = categories[category_type].value_counts()\n",
    "    counts = counts[counts > min_counts] \n",
    "    categories_grouped = categories.groupby(category_type)\n",
    "    \n",
    "    categories_dict = {}\n",
    "    for category, items in categories_grouped:\n",
    "        categories_dict[category] = items\n",
    "\n",
    "    test_set = []    \n",
    "    for _ in tqdm(range(test_set_size)):\n",
    "        \n",
    "        # choosing categories for ABX\n",
    "        if weighted_sample:\n",
    "            category_sample = counts.sample(2, weights=counts)\n",
    "        else:\n",
    "            category_sample = counts.sample(2)\n",
    "            \n",
    "        # choosing which category to treat as positive & negative    \n",
    "        positive = category_sample.index[0]\n",
    "        negative = category_sample.index[1]\n",
    "        if random.random() < 0.5:\n",
    "            positive, negative = negative, positive\n",
    "            \n",
    "        # chosing items for ABX from positive & nega    \n",
    "        positive_items = categories_dict[positive].sample(2).asin.values\n",
    "        negative_item = categories_dict[negative].sample(1).asin.values\n",
    "        \n",
    "        # appending record\n",
    "        line = {\"A\": positive_items[0],\n",
    "                \"B\": negative_item[0],\n",
    "                \"X\": positive_items[1],\n",
    "                \"category_AX\": positive,\n",
    "                \"category_B\": negative}\n",
    "        test_set.append(line)\n",
    "        \n",
    "    with open(path, 'w') as file:    \n",
    "        pd.DataFrame(test_set).to_json(file, 'records', lines = True)"
   ]
  },
  {
   "cell_type": "code",
   "execution_count": 106,
   "id": "955b450b",
   "metadata": {},
   "outputs": [
    {
     "data": {
      "application/vnd.jupyter.widget-view+json": {
       "model_id": "b0cf5461699f4cecbd0db97df3256123",
       "version_major": 2,
       "version_minor": 0
      },
      "text/plain": [
       "  0%|          | 0/10000 [00:00<?, ?it/s]"
      ]
     },
     "metadata": {},
     "output_type": "display_data"
    }
   ],
   "source": [
    "prepare_test_file(categories, '/pio/scratch/1/i313924/test_ABX', category_type='category_1', test_set_size = 10000)"
   ]
  },
  {
   "cell_type": "code",
   "execution_count": 92,
   "id": "035036aa",
   "metadata": {},
   "outputs": [
    {
     "data": {
      "text/plain": [
       "Clothing                                                                1044952\n",
       "Shoes                                                                    466895\n",
       "Jewelry                                                                  399823\n",
       "Accessories                                                              186716\n",
       "Watches                                                                  123775\n",
       "                                                                         ...   \n",
       "Size: 0.20 x inch                                                             1\n",
       "Size details ,please see the size table pictures with tshirt photoes          1\n",
       "Material: Copper, zircon                                                      1\n",
       "Soft woven canvas fabric                                                      1\n",
       "                                                                              1\n",
       "Name: category_2, Length: 9908, dtype: int64"
      ]
     },
     "execution_count": 92,
     "metadata": {},
     "output_type": "execute_result"
    }
   ],
   "source": [
    "counts = categories[\"category_2\"].value_counts()\n",
    "counts"
   ]
  },
  {
   "cell_type": "code",
   "execution_count": 93,
   "id": "08d0d265",
   "metadata": {},
   "outputs": [
    {
     "data": {
      "text/plain": [
       "Accessories    186716\n",
       "Men             17361\n",
       "Name: category_2, dtype: int64"
      ]
     },
     "execution_count": 93,
     "metadata": {},
     "output_type": "execute_result"
    }
   ],
   "source": [
    "counts.sample(2, weights=counts)"
   ]
  },
  {
   "cell_type": "code",
   "execution_count": 94,
   "id": "a06a97f0",
   "metadata": {},
   "outputs": [
    {
     "data": {
      "text/plain": [
       "Om Namah Shivai Prayer Shawl of Lord Shiva    1\n",
       "Earring size:13*15mm/0.51\" x 0.59\".           1\n",
       "Name: category_2, dtype: int64"
      ]
     },
     "execution_count": 94,
     "metadata": {},
     "output_type": "execute_result"
    }
   ],
   "source": [
    "counts.sample(2)"
   ]
  },
  {
   "cell_type": "markdown",
   "id": "0d0f5ab5",
   "metadata": {},
   "source": [
    "## Debugging"
   ]
  },
  {
   "cell_type": "code",
   "execution_count": 3,
   "id": "345f2298",
   "metadata": {},
   "outputs": [],
   "source": [
    "abx_tests = pd.read_json('/pio/scratch/1/i313924/test_data/test_ABX_weighted.json\n",
    "', lines=True)"
   ]
  },
  {
   "cell_type": "code",
   "execution_count": 4,
   "id": "1bbb2bb0",
   "metadata": {},
   "outputs": [
    {
     "data": {
      "text/html": [
       "<div>\n",
       "<style scoped>\n",
       "    .dataframe tbody tr th:only-of-type {\n",
       "        vertical-align: middle;\n",
       "    }\n",
       "\n",
       "    .dataframe tbody tr th {\n",
       "        vertical-align: top;\n",
       "    }\n",
       "\n",
       "    .dataframe thead th {\n",
       "        text-align: right;\n",
       "    }\n",
       "</style>\n",
       "<table border=\"1\" class=\"dataframe\">\n",
       "  <thead>\n",
       "    <tr style=\"text-align: right;\">\n",
       "      <th></th>\n",
       "      <th>A</th>\n",
       "      <th>B</th>\n",
       "      <th>X</th>\n",
       "      <th>category_AX</th>\n",
       "      <th>category_B</th>\n",
       "    </tr>\n",
       "  </thead>\n",
       "  <tbody>\n",
       "    <tr>\n",
       "      <th>0</th>\n",
       "      <td>B00Z730M1M</td>\n",
       "      <td>B00HZOJFWI</td>\n",
       "      <td>B00BXA6ZJQ</td>\n",
       "      <td>Women</td>\n",
       "      <td>Novelty &amp; More</td>\n",
       "    </tr>\n",
       "    <tr>\n",
       "      <th>1</th>\n",
       "      <td>B00E3V35YK</td>\n",
       "      <td>B004LOFDB2</td>\n",
       "      <td>B00GXKDM1A</td>\n",
       "      <td>Women</td>\n",
       "      <td>Novelty &amp; More</td>\n",
       "    </tr>\n",
       "    <tr>\n",
       "      <th>2</th>\n",
       "      <td>B01E5A13LA</td>\n",
       "      <td>B003XDTBS8</td>\n",
       "      <td>B01ERHV7R6</td>\n",
       "      <td>Women</td>\n",
       "      <td>Men</td>\n",
       "    </tr>\n",
       "    <tr>\n",
       "      <th>3</th>\n",
       "      <td>B004VQ19AY</td>\n",
       "      <td>B00JFAMADQ</td>\n",
       "      <td>B01D9O8Z3M</td>\n",
       "      <td>Women</td>\n",
       "      <td>Luggage &amp; Travel Gear</td>\n",
       "    </tr>\n",
       "    <tr>\n",
       "      <th>4</th>\n",
       "      <td>B016Y82UPO</td>\n",
       "      <td>B005GTQQCQ</td>\n",
       "      <td>B016S2Z5HG</td>\n",
       "      <td>Men</td>\n",
       "      <td>Women</td>\n",
       "    </tr>\n",
       "    <tr>\n",
       "      <th>...</th>\n",
       "      <td>...</td>\n",
       "      <td>...</td>\n",
       "      <td>...</td>\n",
       "      <td>...</td>\n",
       "      <td>...</td>\n",
       "    </tr>\n",
       "    <tr>\n",
       "      <th>9995</th>\n",
       "      <td>B016ZNTZDS</td>\n",
       "      <td>B00AYCKUMW</td>\n",
       "      <td>B001KYU04G</td>\n",
       "      <td>Luggage &amp; Travel Gear</td>\n",
       "      <td>Women</td>\n",
       "    </tr>\n",
       "    <tr>\n",
       "      <th>9996</th>\n",
       "      <td>B01CRKBVA8</td>\n",
       "      <td>B008FXIP8S</td>\n",
       "      <td>B00D8BR36M</td>\n",
       "      <td>Women</td>\n",
       "      <td>Men</td>\n",
       "    </tr>\n",
       "    <tr>\n",
       "      <th>9997</th>\n",
       "      <td>B014ERCUSE</td>\n",
       "      <td>B0016HSH6K</td>\n",
       "      <td>B0060QUJPY</td>\n",
       "      <td>Girls</td>\n",
       "      <td>Men</td>\n",
       "    </tr>\n",
       "    <tr>\n",
       "      <th>9998</th>\n",
       "      <td>B001T6IK42</td>\n",
       "      <td>B006NLKZD2</td>\n",
       "      <td>B007I7KE9A</td>\n",
       "      <td>Men</td>\n",
       "      <td>Novelty &amp; More</td>\n",
       "    </tr>\n",
       "    <tr>\n",
       "      <th>9999</th>\n",
       "      <td>B00PC2W3Z6</td>\n",
       "      <td>B001AFBGTS</td>\n",
       "      <td>B013EYDANM</td>\n",
       "      <td>Women</td>\n",
       "      <td>Shoe, Jewelry &amp; Watch Accessories</td>\n",
       "    </tr>\n",
       "  </tbody>\n",
       "</table>\n",
       "<p>10000 rows × 5 columns</p>\n",
       "</div>"
      ],
      "text/plain": [
       "               A           B           X            category_AX  \\\n",
       "0     B00Z730M1M  B00HZOJFWI  B00BXA6ZJQ                  Women   \n",
       "1     B00E3V35YK  B004LOFDB2  B00GXKDM1A                  Women   \n",
       "2     B01E5A13LA  B003XDTBS8  B01ERHV7R6                  Women   \n",
       "3     B004VQ19AY  B00JFAMADQ  B01D9O8Z3M                  Women   \n",
       "4     B016Y82UPO  B005GTQQCQ  B016S2Z5HG                    Men   \n",
       "...          ...         ...         ...                    ...   \n",
       "9995  B016ZNTZDS  B00AYCKUMW  B001KYU04G  Luggage & Travel Gear   \n",
       "9996  B01CRKBVA8  B008FXIP8S  B00D8BR36M                  Women   \n",
       "9997  B014ERCUSE  B0016HSH6K  B0060QUJPY                  Girls   \n",
       "9998  B001T6IK42  B006NLKZD2  B007I7KE9A                    Men   \n",
       "9999  B00PC2W3Z6  B001AFBGTS  B013EYDANM                  Women   \n",
       "\n",
       "                             category_B  \n",
       "0                        Novelty & More  \n",
       "1                        Novelty & More  \n",
       "2                                   Men  \n",
       "3                 Luggage & Travel Gear  \n",
       "4                                 Women  \n",
       "...                                 ...  \n",
       "9995                              Women  \n",
       "9996                                Men  \n",
       "9997                                Men  \n",
       "9998                     Novelty & More  \n",
       "9999  Shoe, Jewelry & Watch Accessories  \n",
       "\n",
       "[10000 rows x 5 columns]"
      ]
     },
     "execution_count": 4,
     "metadata": {},
     "output_type": "execute_result"
    }
   ],
   "source": [
    "abx_tests"
   ]
  },
  {
   "cell_type": "code",
   "execution_count": 7,
   "id": "811199c7",
   "metadata": {},
   "outputs": [
    {
     "data": {
      "text/html": [
       "<div>\n",
       "<style scoped>\n",
       "    .dataframe tbody tr th:only-of-type {\n",
       "        vertical-align: middle;\n",
       "    }\n",
       "\n",
       "    .dataframe tbody tr th {\n",
       "        vertical-align: top;\n",
       "    }\n",
       "\n",
       "    .dataframe thead th {\n",
       "        text-align: right;\n",
       "    }\n",
       "</style>\n",
       "<table border=\"1\" class=\"dataframe\">\n",
       "  <thead>\n",
       "    <tr style=\"text-align: right;\">\n",
       "      <th></th>\n",
       "      <th>asin</th>\n",
       "      <th>category_1</th>\n",
       "      <th>category_2</th>\n",
       "    </tr>\n",
       "  </thead>\n",
       "  <tbody>\n",
       "    <tr>\n",
       "      <th>1973909</th>\n",
       "      <td>B00Z730M1M</td>\n",
       "      <td>Women</td>\n",
       "      <td>Shoes</td>\n",
       "    </tr>\n",
       "  </tbody>\n",
       "</table>\n",
       "</div>"
      ],
      "text/plain": [
       "               asin category_1 category_2\n",
       "1973909  B00Z730M1M      Women      Shoes"
      ]
     },
     "execution_count": 7,
     "metadata": {},
     "output_type": "execute_result"
    }
   ],
   "source": [
    "categories.loc[categories[\"asin\"] == \"B00Z730M1M\"]"
   ]
  },
  {
   "cell_type": "code",
   "execution_count": 8,
   "id": "78294fed",
   "metadata": {},
   "outputs": [
    {
     "data": {
      "text/html": [
       "<div>\n",
       "<style scoped>\n",
       "    .dataframe tbody tr th:only-of-type {\n",
       "        vertical-align: middle;\n",
       "    }\n",
       "\n",
       "    .dataframe tbody tr th {\n",
       "        vertical-align: top;\n",
       "    }\n",
       "\n",
       "    .dataframe thead th {\n",
       "        text-align: right;\n",
       "    }\n",
       "</style>\n",
       "<table border=\"1\" class=\"dataframe\">\n",
       "  <thead>\n",
       "    <tr style=\"text-align: right;\">\n",
       "      <th></th>\n",
       "      <th>asin</th>\n",
       "      <th>category_1</th>\n",
       "      <th>category_2</th>\n",
       "    </tr>\n",
       "  </thead>\n",
       "  <tbody>\n",
       "    <tr>\n",
       "      <th>1193885</th>\n",
       "      <td>B00HZOJFWI</td>\n",
       "      <td>Novelty &amp; More</td>\n",
       "      <td>Clothing</td>\n",
       "    </tr>\n",
       "  </tbody>\n",
       "</table>\n",
       "</div>"
      ],
      "text/plain": [
       "               asin      category_1 category_2\n",
       "1193885  B00HZOJFWI  Novelty & More   Clothing"
      ]
     },
     "execution_count": 8,
     "metadata": {},
     "output_type": "execute_result"
    }
   ],
   "source": [
    "categories.loc[categories[\"asin\"] == \"B00HZOJFWI\"]"
   ]
  },
  {
   "cell_type": "code",
   "execution_count": 9,
   "id": "e85586d2",
   "metadata": {},
   "outputs": [
    {
     "data": {
      "text/html": [
       "<div>\n",
       "<style scoped>\n",
       "    .dataframe tbody tr th:only-of-type {\n",
       "        vertical-align: middle;\n",
       "    }\n",
       "\n",
       "    .dataframe tbody tr th {\n",
       "        vertical-align: top;\n",
       "    }\n",
       "\n",
       "    .dataframe thead th {\n",
       "        text-align: right;\n",
       "    }\n",
       "</style>\n",
       "<table border=\"1\" class=\"dataframe\">\n",
       "  <thead>\n",
       "    <tr style=\"text-align: right;\">\n",
       "      <th></th>\n",
       "      <th>asin</th>\n",
       "      <th>category_1</th>\n",
       "      <th>category_2</th>\n",
       "    </tr>\n",
       "  </thead>\n",
       "  <tbody>\n",
       "    <tr>\n",
       "      <th>809153</th>\n",
       "      <td>B00BXA6ZJQ</td>\n",
       "      <td>Women</td>\n",
       "      <td>Handbags &amp; Wallets</td>\n",
       "    </tr>\n",
       "  </tbody>\n",
       "</table>\n",
       "</div>"
      ],
      "text/plain": [
       "              asin category_1          category_2\n",
       "809153  B00BXA6ZJQ      Women  Handbags & Wallets"
      ]
     },
     "execution_count": 9,
     "metadata": {},
     "output_type": "execute_result"
    }
   ],
   "source": [
    "categories.loc[categories[\"asin\"] == \"B00BXA6ZJQ\"]"
   ]
  },
  {
   "cell_type": "code",
   "execution_count": 10,
   "id": "025ec9a9",
   "metadata": {},
   "outputs": [
    {
     "data": {
      "text/html": [
       "<div>\n",
       "<style scoped>\n",
       "    .dataframe tbody tr th:only-of-type {\n",
       "        vertical-align: middle;\n",
       "    }\n",
       "\n",
       "    .dataframe tbody tr th {\n",
       "        vertical-align: top;\n",
       "    }\n",
       "\n",
       "    .dataframe thead th {\n",
       "        text-align: right;\n",
       "    }\n",
       "</style>\n",
       "<table border=\"1\" class=\"dataframe\">\n",
       "  <thead>\n",
       "    <tr style=\"text-align: right;\">\n",
       "      <th></th>\n",
       "      <th>asin</th>\n",
       "      <th>category_1</th>\n",
       "      <th>category_2</th>\n",
       "    </tr>\n",
       "  </thead>\n",
       "  <tbody>\n",
       "    <tr>\n",
       "      <th>144195</th>\n",
       "      <td>B001T6IK42</td>\n",
       "      <td>Men</td>\n",
       "      <td>Accessories</td>\n",
       "    </tr>\n",
       "  </tbody>\n",
       "</table>\n",
       "</div>"
      ],
      "text/plain": [
       "              asin category_1   category_2\n",
       "144195  B001T6IK42        Men  Accessories"
      ]
     },
     "execution_count": 10,
     "metadata": {},
     "output_type": "execute_result"
    }
   ],
   "source": [
    "categories.loc[categories[\"asin\"] == \"B001T6IK42\"]"
   ]
  },
  {
   "cell_type": "code",
   "execution_count": 11,
   "id": "58f8bd08",
   "metadata": {},
   "outputs": [
    {
     "data": {
      "text/html": [
       "<div>\n",
       "<style scoped>\n",
       "    .dataframe tbody tr th:only-of-type {\n",
       "        vertical-align: middle;\n",
       "    }\n",
       "\n",
       "    .dataframe tbody tr th {\n",
       "        vertical-align: top;\n",
       "    }\n",
       "\n",
       "    .dataframe thead th {\n",
       "        text-align: right;\n",
       "    }\n",
       "</style>\n",
       "<table border=\"1\" class=\"dataframe\">\n",
       "  <thead>\n",
       "    <tr style=\"text-align: right;\">\n",
       "      <th></th>\n",
       "      <th>asin</th>\n",
       "      <th>category_1</th>\n",
       "      <th>category_2</th>\n",
       "    </tr>\n",
       "  </thead>\n",
       "  <tbody>\n",
       "    <tr>\n",
       "      <th>481418</th>\n",
       "      <td>B006NLKZD2</td>\n",
       "      <td>Novelty &amp; More</td>\n",
       "      <td>Clothing</td>\n",
       "    </tr>\n",
       "  </tbody>\n",
       "</table>\n",
       "</div>"
      ],
      "text/plain": [
       "              asin      category_1 category_2\n",
       "481418  B006NLKZD2  Novelty & More   Clothing"
      ]
     },
     "execution_count": 11,
     "metadata": {},
     "output_type": "execute_result"
    }
   ],
   "source": [
    "categories.loc[categories[\"asin\"] == \"B006NLKZD2\"]"
   ]
  },
  {
   "cell_type": "code",
   "execution_count": 12,
   "id": "822759ae",
   "metadata": {},
   "outputs": [
    {
     "data": {
      "text/html": [
       "<div>\n",
       "<style scoped>\n",
       "    .dataframe tbody tr th:only-of-type {\n",
       "        vertical-align: middle;\n",
       "    }\n",
       "\n",
       "    .dataframe tbody tr th {\n",
       "        vertical-align: top;\n",
       "    }\n",
       "\n",
       "    .dataframe thead th {\n",
       "        text-align: right;\n",
       "    }\n",
       "</style>\n",
       "<table border=\"1\" class=\"dataframe\">\n",
       "  <thead>\n",
       "    <tr style=\"text-align: right;\">\n",
       "      <th></th>\n",
       "      <th>asin</th>\n",
       "      <th>category_1</th>\n",
       "      <th>category_2</th>\n",
       "    </tr>\n",
       "  </thead>\n",
       "  <tbody>\n",
       "    <tr>\n",
       "      <th>534416</th>\n",
       "      <td>B007I7KE9A</td>\n",
       "      <td>Men</td>\n",
       "      <td>Made from 100% Performance Polyester</td>\n",
       "    </tr>\n",
       "  </tbody>\n",
       "</table>\n",
       "</div>"
      ],
      "text/plain": [
       "              asin category_1                            category_2\n",
       "534416  B007I7KE9A        Men  Made from 100% Performance Polyester"
      ]
     },
     "execution_count": 12,
     "metadata": {},
     "output_type": "execute_result"
    }
   ],
   "source": [
    "categories.loc[categories[\"asin\"] == \"B007I7KE9A\"]"
   ]
  },
  {
   "cell_type": "code",
   "execution_count": 14,
   "id": "91518dab",
   "metadata": {},
   "outputs": [
    {
     "data": {
      "text/plain": [
       "Women                                3819\n",
       "Men                                  2420\n",
       "Novelty & More                       1695\n",
       "Girls                                 560\n",
       "Baby                                  386\n",
       "Luggage & Travel Gear                 350\n",
       "Boys                                  338\n",
       "Costumes & Accessories                301\n",
       "Shoe, Jewelry & Watch Accessories      97\n",
       "Uniforms, Work & Safety                18\n",
       "Traditional & Cultural Wear            16\n",
       "Name: category_AX, dtype: int64"
      ]
     },
     "execution_count": 14,
     "metadata": {},
     "output_type": "execute_result"
    }
   ],
   "source": [
    "abx_tests[\"category_AX\"].value_counts()"
   ]
  },
  {
   "cell_type": "code",
   "execution_count": 15,
   "id": "13fb56e7",
   "metadata": {},
   "outputs": [
    {
     "data": {
      "text/plain": [
       "Women                                3819\n",
       "Men                                  2390\n",
       "Novelty & More                       1729\n",
       "Girls                                 519\n",
       "Baby                                  398\n",
       "Luggage & Travel Gear                 351\n",
       "Boys                                  342\n",
       "Costumes & Accessories                298\n",
       "Shoe, Jewelry & Watch Accessories     114\n",
       "Traditional & Cultural Wear            22\n",
       "Uniforms, Work & Safety                18\n",
       "Name: category_B, dtype: int64"
      ]
     },
     "execution_count": 15,
     "metadata": {},
     "output_type": "execute_result"
    }
   ],
   "source": [
    "abx_tests[\"category_B\"].value_counts()"
   ]
  },
  {
   "cell_type": "code",
   "execution_count": null,
   "id": "0d3ae464",
   "metadata": {},
   "outputs": [],
   "source": []
  }
 ],
 "metadata": {
  "kernelspec": {
   "display_name": "Python 3",
   "language": "python",
   "name": "python3"
  },
  "language_info": {
   "codemirror_mode": {
    "name": "ipython",
    "version": 3
   },
   "file_extension": ".py",
   "mimetype": "text/x-python",
   "name": "python",
   "nbconvert_exporter": "python",
   "pygments_lexer": "ipython3",
   "version": "3.6.13"
  }
 },
 "nbformat": 4,
 "nbformat_minor": 5
}
