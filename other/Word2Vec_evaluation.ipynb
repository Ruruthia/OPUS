{
 "cells": [
  {
   "cell_type": "code",
   "execution_count": 7,
   "outputs": [],
   "source": [
    "import numpy as np\n",
    "import pandas as pd\n",
    "from scipy import spatial\n",
    "from sklearn.decomposition import PCA"
   ],
   "metadata": {
    "collapsed": false,
    "pycharm": {
     "name": "#%%\n"
    }
   }
  },
  {
   "cell_type": "code",
   "execution_count": 2,
   "outputs": [],
   "source": [
    "word2vec_embeddings = pd.read_parquet('/pio/scratch/1/recommender_systems/processed/word2vec/amazon-clothes/5-core/item_item_embeddings.parquet')"
   ],
   "metadata": {
    "collapsed": false,
    "pycharm": {
     "name": "#%%\n"
    }
   }
  },
  {
   "cell_type": "code",
   "execution_count": 10,
   "outputs": [
    {
     "data": {
      "text/plain": "PCA(n_components=2)"
     },
     "execution_count": 10,
     "metadata": {},
     "output_type": "execute_result"
    }
   ],
   "source": [
    "pca = PCA(n_components=2)\n",
    "pca.fit(word2vec_embeddings)"
   ],
   "metadata": {
    "collapsed": false,
    "pycharm": {
     "name": "#%%\n"
    }
   }
  },
  {
   "cell_type": "code",
   "execution_count": 4,
   "outputs": [],
   "source": [
    "def analyse_ABX(path, items_embeddings, pca):\n",
    "    abx_tests = pd.read_json(path, lines=True)\n",
    "    A = np.zeros((10000, 100))\n",
    "    B = np.zeros((10000, 100))\n",
    "    X = np.zeros((10000, 100))\n",
    "\n",
    "    for i, test in abx_tests.iterrows():\n",
    "        A[i, :] = items_embeddings.loc[test[\"A\"]]\n",
    "        B[i, :] = items_embeddings.loc[test[\"B\"]]\n",
    "        X[i, :] = items_embeddings.loc[test[\"X\"]]\n",
    "\n",
    "    dist_A = ((A - X)**2).sum(axis=1)\n",
    "    dist_B = ((B - X)**2).sum(axis=1)\n",
    "\n",
    "    cos_dist_A = np.zeros(10000)\n",
    "    cos_dist_B = np.zeros(10000)\n",
    "\n",
    "    for i in range(10000):\n",
    "        cos_dist_A[i] = spatial.distance.cosine(A[i, :], X[i, :])\n",
    "        cos_dist_B[i] = spatial.distance.cosine(B[i, :], X[i, :])\n",
    "\n",
    "    if pca is not None:\n",
    "        pca_A = pca.transform(A)\n",
    "        pca_B = pca.transform(B)\n",
    "        pca_X = pca.transform(X)\n",
    "\n",
    "        dist_pca_A = ((pca_A - pca_X)**2).sum(axis=1)\n",
    "        dist_pca_B  = ((pca_B - pca_X)**2).sum(axis=1)\n",
    "\n",
    "        cos_dist_pca_A = np.zeros(10000)\n",
    "        cos_dist_pca_B = np.zeros(10000)\n",
    "\n",
    "        for i in range(10000):\n",
    "            cos_dist_pca_A[i] = spatial.distance.cosine(pca_A[i, :], pca_X[i, :])\n",
    "            cos_dist_pca_B[i] = spatial.distance.cosine(pca_B[i, :], pca_X[i, :])\n",
    "\n",
    "    return [(dist_A < dist_B).mean(), (dist_pca_A < dist_pca_B).mean(), ((dist_A < dist_B) == (dist_pca_A < dist_pca_B)).mean()], [(cos_dist_A < cos_dist_B).mean(), (cos_dist_pca_A < cos_dist_pca_B).mean(), ((cos_dist_A < cos_dist_B) == (cos_dist_pca_A < cos_dist_pca_B)).mean()]"
   ],
   "metadata": {
    "collapsed": false,
    "pycharm": {
     "name": "#%%\n"
    }
   }
  },
  {
   "cell_type": "code",
   "execution_count": 11,
   "outputs": [
    {
     "data": {
      "text/plain": "([0.6349, 0.6428, 0.8697], [0.6349, 0.6496, 0.7293])"
     },
     "execution_count": 11,
     "metadata": {},
     "output_type": "execute_result"
    }
   ],
   "source": [
    "analyse_ABX('/pio/scratch/1/recommender_systems/interim/ABX_tests/5_core.json', word2vec_embeddings, pca)"
   ],
   "metadata": {
    "collapsed": false,
    "pycharm": {
     "name": "#%%\n"
    }
   }
  },
  {
   "cell_type": "code",
   "execution_count": null,
   "outputs": [],
   "source": [],
   "metadata": {
    "collapsed": false,
    "pycharm": {
     "name": "#%%\n"
    }
   }
  }
 ],
 "metadata": {
  "kernelspec": {
   "display_name": "Python 3",
   "language": "python",
   "name": "python3"
  },
  "language_info": {
   "codemirror_mode": {
    "name": "ipython",
    "version": 2
   },
   "file_extension": ".py",
   "mimetype": "text/x-python",
   "name": "python",
   "nbconvert_exporter": "python",
   "pygments_lexer": "ipython2",
   "version": "2.7.6"
  }
 },
 "nbformat": 4,
 "nbformat_minor": 0
}