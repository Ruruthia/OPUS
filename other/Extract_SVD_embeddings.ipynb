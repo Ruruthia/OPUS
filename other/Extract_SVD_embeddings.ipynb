{
 "cells": [
  {
   "cell_type": "code",
   "execution_count": 3,
   "id": "64d2ce58",
   "metadata": {},
   "outputs": [
    {
     "name": "stderr",
     "output_type": "stream",
     "text": [
      "Matplotlib created a temporary config/cache directory at /tmp/matplotlib-kx67iyp6 because the default path (/home/i313924/.cache/matplotlib) is not a writable directory; it is highly recommended to set the MPLCONFIGDIR environment variable to a writable directory, in particular to speed up the import of Matplotlib and to better support multiprocessing.\n"
     ]
    }
   ],
   "source": [
    "import numpy as np\n",
    "import pandas as pd"
   ]
  },
  {
   "cell_type": "code",
   "execution_count": 4,
   "id": "018ec170",
   "metadata": {},
   "outputs": [],
   "source": [
    "model = pd.read_pickle('/pio/scratch/1/i313924/data/svd_data/model_1000_epochs_slim.pkl')"
   ]
  },
  {
   "cell_type": "code",
   "execution_count": 5,
   "id": "68163413",
   "metadata": {},
   "outputs": [],
   "source": [
    "embeddings = model.qi_\n",
    "item_mapping = {v: k for k, v in model.item_mapping_.items()}\n",
    "asins = pd.DataFrame.from_dict(item_mapping, orient='index').to_numpy()"
   ]
  },
  {
   "cell_type": "code",
   "execution_count": 11,
   "id": "6d980946",
   "metadata": {},
   "outputs": [],
   "source": [
    "with open('/pio/scratch/1/recommender_systems/interim/svd/svd_indices.npy', 'wb') as f:\n",
    "    np.save(f, asins)"
   ]
  },
  {
   "cell_type": "code",
   "execution_count": 12,
   "id": "625ceac4",
   "metadata": {
    "pycharm": {
     "name": "#%%\n"
    }
   },
   "outputs": [],
   "source": [
    "with open('/pio/scratch/1/recommender_systems/interim/svd/svd_embeddings.npy', 'wb') as f:\n",
    "    np.save(f, embeddings)"
   ]
  }
 ],
 "metadata": {
  "kernelspec": {
   "display_name": "Python 3",
   "language": "python",
   "name": "python3"
  },
  "language_info": {
   "codemirror_mode": {
    "name": "ipython",
    "version": 3
   },
   "file_extension": ".py",
   "mimetype": "text/x-python",
   "name": "python",
   "nbconvert_exporter": "python",
   "pygments_lexer": "ipython3",
   "version": "3.6.13"
  }
 },
 "nbformat": 4,
 "nbformat_minor": 5
}