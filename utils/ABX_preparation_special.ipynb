{
 "cells": [
  {
   "cell_type": "code",
   "execution_count": 1,
   "id": "2bb4f757",
   "metadata": {},
   "outputs": [],
   "source": [
    "import random\n",
    "import re \n",
    "\n",
    "import pandas as pd\n",
    "\n",
    "from tqdm.auto import tqdm"
   ]
  },
  {
   "cell_type": "code",
   "execution_count": 2,
   "id": "01879c1a",
   "metadata": {},
   "outputs": [],
   "source": [
    "metadata = pd.read_json('/pio/scratch/1/recommender_systems/raw/Amazon/meta_Clothing_Shoes_and_Jewelry.json.gz', lines=True, compression='gzip')"
   ]
  },
  {
   "cell_type": "code",
   "execution_count": 46,
   "id": "fcd2fe3e",
   "metadata": {},
   "outputs": [],
   "source": [
    "ratings = pd.read_csv('/pio/scratch/1/i313924/data/train_data/slim_ratings.csv', names=['asin', 'reviewerID', 'overall', 'unixReviewTime'])\n",
    "categories = pd.read_json('/pio/scratch/1/recommender_systems/interim/Amazon/meta_Clothing_Shoes_and_Jewelry_categories.json', lines=True)"
   ]
  },
  {
   "cell_type": "code",
   "execution_count": 47,
   "id": "23cd299a",
   "metadata": {},
   "outputs": [],
   "source": [
    "popular_items = ratings['asin'].unique()"
   ]
  },
  {
   "cell_type": "code",
   "execution_count": 28,
   "id": "2d574fad",
   "metadata": {},
   "outputs": [],
   "source": [
    "suits = metadata[metadata['title'].str.contains('suit|tuxedo', regex=True, flags=re.IGNORECASE).fillna(False)]\n",
    "suits = suits[suits.category.apply(lambda x: 'Men' in x)]"
   ]
  },
  {
   "cell_type": "code",
   "execution_count": 41,
   "id": "0f7547c7",
   "metadata": {},
   "outputs": [],
   "source": [
    "dresses = metadata[metadata['title'].str.contains('dress', regex=True, flags=re.IGNORECASE).fillna(False)]\n",
    "dresses = dresses[dresses.category.apply(lambda x: 'Women' in x)]\n",
    "dresses = dresses.loc[dresses['asin'].isin(popular_items)]"
   ]
  },
  {
   "cell_type": "code",
   "execution_count": 48,
   "id": "8fce5e5e",
   "metadata": {},
   "outputs": [],
   "source": [
    "suits = suits.loc[suits['asin'].isin(popular_items)]\n",
    "dresses = dresses.loc[dresses['asin'].isin(popular_items)]"
   ]
  },
  {
   "cell_type": "code",
   "execution_count": 50,
   "id": "668b099c",
   "metadata": {},
   "outputs": [
    {
     "data": {
      "text/plain": [
       "5119"
      ]
     },
     "execution_count": 50,
     "metadata": {},
     "output_type": "execute_result"
    }
   ],
   "source": [
    "len(suits)"
   ]
  },
  {
   "cell_type": "code",
   "execution_count": 51,
   "id": "1ce2e8ec",
   "metadata": {},
   "outputs": [
    {
     "data": {
      "text/plain": [
       "9592"
      ]
     },
     "execution_count": 51,
     "metadata": {},
     "output_type": "execute_result"
    }
   ],
   "source": [
    "len(dresses)"
   ]
  },
  {
   "cell_type": "code",
   "execution_count": 56,
   "id": "fe6a780e",
   "metadata": {},
   "outputs": [
    {
     "data": {
      "application/vnd.jupyter.widget-view+json": {
       "model_id": "5779458a96a54bc5b5226f95b1fc39fb",
       "version_major": 2,
       "version_minor": 0
      },
      "text/plain": [
       "  0%|          | 0/10000 [00:00<?, ?it/s]"
      ]
     },
     "metadata": {},
     "output_type": "display_data"
    }
   ],
   "source": [
    "test_set = []\n",
    "for _ in tqdm(range(10000)):\n",
    "    positive = 'Women'\n",
    "    negative = 'Men'\n",
    "    if random.random() < 0.5:\n",
    "        positive, negative = negative, positive\n",
    "    if positive == 'Women':\n",
    "        positive_items = dresses.sample(2)['asin'].values\n",
    "        negative_item = suits.sample(1)['asin'].values\n",
    "    else:\n",
    "        positive_items = suits.sample(2)['asin'].values\n",
    "        negative_item = dresses.sample(1)['asin'].values\n",
    "\n",
    "    line = {\"A\": positive_items[0],\n",
    "            \"B\": negative_item[0],\n",
    "            \"X\": positive_items[1],\n",
    "            \"category_AX\": positive,\n",
    "            \"category_B\": negative\n",
    "           }\n",
    "    test_set.append(line)\n",
    "with open('/pio/scratch/1/i313924/data/test_data/Suits_Dresses_ABX', 'w') as file:    \n",
    "    pd.DataFrame(test_set).to_json(file, 'records', lines = True)"
   ]
  },
  {
   "cell_type": "code",
   "execution_count": null,
   "id": "3e2233e8",
   "metadata": {},
   "outputs": [],
   "source": []
  }
 ],
 "metadata": {
  "kernelspec": {
   "display_name": "Python 3",
   "language": "python",
   "name": "python3"
  },
  "language_info": {
   "codemirror_mode": {
    "name": "ipython",
    "version": 3
   },
   "file_extension": ".py",
   "mimetype": "text/x-python",
   "name": "python",
   "nbconvert_exporter": "python",
   "pygments_lexer": "ipython3",
   "version": "3.6.13"
  }
 },
 "nbformat": 4,
 "nbformat_minor": 5
}
