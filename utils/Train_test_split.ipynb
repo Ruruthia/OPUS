{
 "cells": [
  {
   "cell_type": "code",
   "execution_count": 1,
   "outputs": [],
   "source": [
    "import numpy as np\n",
    "import pandas as pd"
   ],
   "metadata": {
    "collapsed": false,
    "pycharm": {
     "name": "#%%\n"
    }
   }
  },
  {
   "cell_type": "code",
   "execution_count": 2,
   "outputs": [],
   "source": [
    "INTERIM_DATA_PATH = '/pio/scratch/1/recommender_systems/interim/Amazon/'\n",
    "FINAL_DATA_PATH = '/pio/scratch/1/i313924/data/'"
   ],
   "metadata": {
    "collapsed": false,
    "pycharm": {
     "name": "#%%\n"
    }
   }
  },
  {
   "cell_type": "code",
   "execution_count": 3,
   "outputs": [],
   "source": [
    "def split_ratings_dataset(df, seed=None, frac_users=0.7, frac_items=0.7):\n",
    "\n",
    "    if seed is not None:\n",
    "        np.random.seed(seed)\n",
    "\n",
    "    users = df['reviewerID'].unique()\n",
    "    np.random.shuffle(users)\n",
    "    train_size = int(frac_users * users.shape[0])\n",
    "\n",
    "    train_df = df[df['reviewerID'].isin(users[:train_size])]\n",
    "    test_df = df[df['reviewerID'].isin(users[train_size:])]\n",
    "\n",
    "    test_known_df, test_unknown_df = split_testing_set(test_df, seed=seed, frac=frac_items)\n",
    "\n",
    "    return pd.concat((train_df, test_known_df)), test_unknown_df\n",
    "\n",
    "\n",
    "def split_testing_set(test_df, seed=None, frac=0.7):\n",
    "\n",
    "    if seed is not None:\n",
    "        np.random.seed(seed)\n",
    "\n",
    "    grouped = test_df.groupby(by='reviewerID')\n",
    "    test_known = []\n",
    "    test_unknown = []\n",
    "    for _, df in grouped:\n",
    "        df_size = df.shape[0]\n",
    "\n",
    "        known_size = int(round(frac * df_size))\n",
    "        known_indices = np.random.choice(df_size, known_size, replace=False)\n",
    "        known_data = df.iloc[known_indices]\n",
    "        test_known.append(known_data)\n",
    "\n",
    "        unknown_indices = np.setdiff1d(np.arange(df_size), known_indices)\n",
    "        unknown_data = df.iloc[unknown_indices]\n",
    "        test_unknown.append(unknown_data)\n",
    "\n",
    "    return pd.concat(test_known), pd.concat(test_unknown)"
   ],
   "metadata": {
    "collapsed": false,
    "pycharm": {
     "name": "#%%\n"
    }
   }
  },
  {
   "cell_type": "code",
   "execution_count": 4,
   "outputs": [],
   "source": [
    "df = pd.read_parquet(f'{INTERIM_DATA_PATH}/Clothing_Shoes_and_Jewelry_clean.parquet')"
   ],
   "metadata": {
    "collapsed": false,
    "pycharm": {
     "name": "#%%\n"
    }
   }
  },
  {
   "cell_type": "code",
   "execution_count": 5,
   "outputs": [],
   "source": [
    "active_users = df['reviewerID'].value_counts().loc[lambda x: x > 10].index\n",
    "popular_items = df['asin'].value_counts().loc[lambda x: x > 10].index"
   ],
   "metadata": {
    "collapsed": false,
    "pycharm": {
     "name": "#%%\n"
    }
   }
  },
  {
   "cell_type": "code",
   "execution_count": 6,
   "outputs": [],
   "source": [
    "df = df[df['reviewerID'].isin(active_users)]\n",
    "df = df[df['asin'].isin(popular_items)]"
   ],
   "metadata": {
    "collapsed": false,
    "pycharm": {
     "name": "#%%\n"
    }
   }
  },
  {
   "cell_type": "code",
   "execution_count": 7,
   "outputs": [],
   "source": [
    "train_df, test_df = split_ratings_dataset(df)"
   ],
   "metadata": {
    "collapsed": false,
    "pycharm": {
     "name": "#%%\n"
    }
   }
  },
  {
   "cell_type": "code",
   "execution_count": 9,
   "outputs": [
    {
     "data": {
      "text/plain": "             reviewerID  overall  unixReviewTime        asin\n0        A2IC3NZN488KWK      5.0      1399161600  0871167042\n6        A22ZX01TPWQY4G      2.0      1409702400  0871167042\n8         AA7PNT2OPS3RP      4.0      1401926400  0871167042\n19        A7LYNE6GEDAG8      5.0      1497312000  1519588135\n21       A2DE9PDS1V4UYY      2.0      1494633600  1519588135\n...                 ...      ...             ...         ...\n5856993   AZZY4W8E5AX2K      5.0      1458259200  B00KO9GRY0\n6062173   AZZY4W8E5AX2K      5.0      1492992000  B00LMS37CM\n5079334   AZZY4W8E5AX2K      5.0      1428278400  B00GJB14ZE\n5473735   AZZY4W8E5AX2K      5.0      1460937600  B00INGQ29G\n7785716   AZZY4W8E5AX2K      5.0      1468540800  B01011OR4W\n\n[3383552 rows x 4 columns]",
      "text/html": "<div>\n<style scoped>\n    .dataframe tbody tr th:only-of-type {\n        vertical-align: middle;\n    }\n\n    .dataframe tbody tr th {\n        vertical-align: top;\n    }\n\n    .dataframe thead th {\n        text-align: right;\n    }\n</style>\n<table border=\"1\" class=\"dataframe\">\n  <thead>\n    <tr style=\"text-align: right;\">\n      <th></th>\n      <th>reviewerID</th>\n      <th>overall</th>\n      <th>unixReviewTime</th>\n      <th>asin</th>\n    </tr>\n  </thead>\n  <tbody>\n    <tr>\n      <th>0</th>\n      <td>A2IC3NZN488KWK</td>\n      <td>5.0</td>\n      <td>1399161600</td>\n      <td>0871167042</td>\n    </tr>\n    <tr>\n      <th>6</th>\n      <td>A22ZX01TPWQY4G</td>\n      <td>2.0</td>\n      <td>1409702400</td>\n      <td>0871167042</td>\n    </tr>\n    <tr>\n      <th>8</th>\n      <td>AA7PNT2OPS3RP</td>\n      <td>4.0</td>\n      <td>1401926400</td>\n      <td>0871167042</td>\n    </tr>\n    <tr>\n      <th>19</th>\n      <td>A7LYNE6GEDAG8</td>\n      <td>5.0</td>\n      <td>1497312000</td>\n      <td>1519588135</td>\n    </tr>\n    <tr>\n      <th>21</th>\n      <td>A2DE9PDS1V4UYY</td>\n      <td>2.0</td>\n      <td>1494633600</td>\n      <td>1519588135</td>\n    </tr>\n    <tr>\n      <th>...</th>\n      <td>...</td>\n      <td>...</td>\n      <td>...</td>\n      <td>...</td>\n    </tr>\n    <tr>\n      <th>5856993</th>\n      <td>AZZY4W8E5AX2K</td>\n      <td>5.0</td>\n      <td>1458259200</td>\n      <td>B00KO9GRY0</td>\n    </tr>\n    <tr>\n      <th>6062173</th>\n      <td>AZZY4W8E5AX2K</td>\n      <td>5.0</td>\n      <td>1492992000</td>\n      <td>B00LMS37CM</td>\n    </tr>\n    <tr>\n      <th>5079334</th>\n      <td>AZZY4W8E5AX2K</td>\n      <td>5.0</td>\n      <td>1428278400</td>\n      <td>B00GJB14ZE</td>\n    </tr>\n    <tr>\n      <th>5473735</th>\n      <td>AZZY4W8E5AX2K</td>\n      <td>5.0</td>\n      <td>1460937600</td>\n      <td>B00INGQ29G</td>\n    </tr>\n    <tr>\n      <th>7785716</th>\n      <td>AZZY4W8E5AX2K</td>\n      <td>5.0</td>\n      <td>1468540800</td>\n      <td>B01011OR4W</td>\n    </tr>\n  </tbody>\n</table>\n<p>3383552 rows × 4 columns</p>\n</div>"
     },
     "execution_count": 9,
     "metadata": {},
     "output_type": "execute_result"
    }
   ],
   "source": [
    "train_df[['reviewerID', 'overall', 'unixReviewTime', 'asin']]"
   ],
   "metadata": {
    "collapsed": false,
    "pycharm": {
     "name": "#%%\n"
    }
   }
  },
  {
   "cell_type": "code",
   "execution_count": 25,
   "outputs": [
    {
     "name": "stdout",
     "output_type": "stream",
     "text": [
      "3382904\n",
      "235435\n",
      "166882\n"
     ]
    }
   ],
   "source": [
    "print(len(train_df))\n",
    "print(len(train_df['reviewerID'].unique()))\n",
    "print(len(train_df['asin'].unique()))"
   ],
   "metadata": {
    "collapsed": false,
    "pycharm": {
     "name": "#%%\n"
    }
   }
  },
  {
   "cell_type": "code",
   "execution_count": 26,
   "outputs": [
    {
     "name": "stdout",
     "output_type": "stream",
     "text": [
      "337307\n",
      "70631\n",
      "103940\n"
     ]
    }
   ],
   "source": [
    "print(len(test_df))\n",
    "print(len(test_df['reviewerID'].unique()))\n",
    "print(len(test_df['asin'].unique()))"
   ],
   "metadata": {
    "collapsed": false,
    "pycharm": {
     "name": "#%%\n"
    }
   }
  },
  {
   "cell_type": "code",
   "execution_count": 11,
   "outputs": [],
   "source": [
    "train_df[['asin', 'reviewerID', 'overall', 'unixReviewTime']].to_csv(f'{FINAL_DATA_PATH}/train_data/train_slim_data.csv', index=False, header=False)\n",
    "test_df[['asin', 'reviewerID', 'overall', 'unixReviewTime']].to_csv(f'{FINAL_DATA_PATH}/test_data/test_slim_data.csv', index=False, header=False)"
   ],
   "metadata": {
    "collapsed": false,
    "pycharm": {
     "name": "#%%\n"
    }
   }
  },
  {
   "cell_type": "code",
   "execution_count": null,
   "outputs": [],
   "source": [],
   "metadata": {
    "collapsed": false,
    "pycharm": {
     "name": "#%%\n"
    }
   }
  }
 ],
 "metadata": {
  "kernelspec": {
   "display_name": "Python 3",
   "language": "python",
   "name": "python3"
  },
  "language_info": {
   "codemirror_mode": {
    "name": "ipython",
    "version": 2
   },
   "file_extension": ".py",
   "mimetype": "text/x-python",
   "name": "python",
   "nbconvert_exporter": "python",
   "pygments_lexer": "ipython2",
   "version": "2.7.6"
  }
 },
 "nbformat": 4,
 "nbformat_minor": 0
}