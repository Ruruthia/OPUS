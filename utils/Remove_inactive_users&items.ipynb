{
 "cells": [
  {
   "cell_type": "code",
   "execution_count": 1,
   "id": "820e6ad5",
   "metadata": {},
   "outputs": [],
   "source": [
    "import pandas as pd"
   ]
  },
  {
   "cell_type": "code",
   "execution_count": 2,
   "id": "37946d01",
   "metadata": {},
   "outputs": [],
   "source": [
    "df = pd.read_csv('/pio/scratch/1/recommender_systems/raw/Amazon/Clothing_Shoes_and_Jewelry.csv',\n",
    "                 names=['asin', 'reviewerID', 'overall', 'unixReviewTime'])"
   ]
  },
  {
   "cell_type": "code",
   "execution_count": 3,
   "id": "e6385605",
   "metadata": {},
   "outputs": [],
   "source": [
    "active_users = df['reviewerID'].value_counts().loc[lambda x: x > 20].index"
   ]
  },
  {
   "cell_type": "code",
   "execution_count": 4,
   "id": "d9aea2e6",
   "metadata": {},
   "outputs": [],
   "source": [
    "popular_items = df['asin'].value_counts().loc[lambda x: x > 20].index"
   ]
  },
  {
   "cell_type": "code",
   "execution_count": 5,
   "id": "99c44fdf",
   "metadata": {},
   "outputs": [],
   "source": [
    "df = df[df['reviewerID'].isin(active_users)]"
   ]
  },
  {
   "cell_type": "code",
   "execution_count": 6,
   "id": "46887a8c",
   "metadata": {},
   "outputs": [],
   "source": [
    "df = df[df['asin'].isin(popular_items)]"
   ]
  },
  {
   "cell_type": "code",
   "execution_count": 7,
   "id": "4a80ce21",
   "metadata": {},
   "outputs": [],
   "source": [
    "df.to_csv('/pio/scratch/1/i313924/data/train_data/slim_ratings.csv', index=False, header=False)"
   ]
  },
  {
   "cell_type": "code",
   "execution_count": 13,
   "id": "3559231f",
   "metadata": {},
   "outputs": [
    {
     "data": {
      "text/plain": [
       "101084"
      ]
     },
     "execution_count": 13,
     "metadata": {},
     "output_type": "execute_result"
    }
   ],
   "source": [
    "len(active_users)"
   ]
  },
  {
   "cell_type": "code",
   "execution_count": 14,
   "id": "668cecf3",
   "metadata": {},
   "outputs": [
    {
     "data": {
      "text/plain": [
       "220259"
      ]
     },
     "execution_count": 14,
     "metadata": {},
     "output_type": "execute_result"
    }
   ],
   "source": [
    "len(popular_items)"
   ]
  },
  {
   "cell_type": "code",
   "execution_count": 15,
   "id": "fe8f7cf8",
   "metadata": {},
   "outputs": [
    {
     "data": {
      "text/plain": [
       "2384662"
      ]
     },
     "execution_count": 15,
     "metadata": {},
     "output_type": "execute_result"
    }
   ],
   "source": [
    "len(df)"
   ]
  },
  {
   "cell_type": "code",
   "execution_count": null,
   "id": "222885ea",
   "metadata": {},
   "outputs": [],
   "source": []
  }
 ],
 "metadata": {
  "kernelspec": {
   "display_name": "Python 3",
   "language": "python",
   "name": "python3"
  },
  "language_info": {
   "codemirror_mode": {
    "name": "ipython",
    "version": 3
   },
   "file_extension": ".py",
   "mimetype": "text/x-python",
   "name": "python",
   "nbconvert_exporter": "python",
   "pygments_lexer": "ipython3",
   "version": "3.6.13"
  }
 },
 "nbformat": 4,
 "nbformat_minor": 5
}
