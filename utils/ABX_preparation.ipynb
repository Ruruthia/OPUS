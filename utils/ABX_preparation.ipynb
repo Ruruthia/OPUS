{
 "cells": [
  {
   "cell_type": "code",
   "execution_count": 18,
   "id": "2bb4f757",
   "metadata": {},
   "outputs": [],
   "source": [
    "import random\n",
    "\n",
    "import pandas as pd\n",
    "\n",
    "from tqdm.auto import tqdm"
   ]
  },
  {
   "cell_type": "code",
   "execution_count": 19,
   "id": "fcd2fe3e",
   "metadata": {},
   "outputs": [],
   "source": [
    "ratings = pd.read_csv('/pio/scratch/1/i313924/slim_ratings.csv', names=['asin', 'reviewerID', 'overall', 'unixReviewTime'])\n",
    "categories = pd.read_json('/pio/scratch/1/recommender_systems/interim/Amazon/meta_Clothing_Shoes_and_Jewelry_categories.json', lines=True)"
   ]
  },
  {
   "cell_type": "code",
   "execution_count": 20,
   "id": "23cd299a",
   "metadata": {},
   "outputs": [],
   "source": [
    "popular_items = ratings['asin'].unique()"
   ]
  },
  {
   "cell_type": "code",
   "execution_count": 23,
   "id": "d757daf4",
   "metadata": {},
   "outputs": [],
   "source": [
    "# jaki rzad wielkości tego pliku?\n",
    "def prepare_test_file(categories, path, test_set_size = 10000,\n",
    "                      category_type = \"category_1\", weighted_sample = True,\n",
    "                      min_counts = 0, popular_items = None):\n",
    "    \n",
    "    counts = categories[category_type].value_counts()\n",
    "    counts = counts[counts > min_counts] \n",
    "    categories_grouped = categories.groupby(category_type)\n",
    "    \n",
    "    categories_dict = {}\n",
    "    for category, items in categories_grouped:\n",
    "        if popular_items is not None:\n",
    "            categories_dict[category] = items.loc[items['asin'].isin(popular_items)]\n",
    "        else:\n",
    "            categories_dict[category] = items                                         \n",
    "\n",
    "    test_set = []    \n",
    "    for _ in tqdm(range(test_set_size)):\n",
    "        \n",
    "        # choosing categories for ABX\n",
    "        if weighted_sample:\n",
    "            category_sample = counts.sample(2, weights=counts)\n",
    "        else:\n",
    "            category_sample = counts.sample(2)\n",
    "            \n",
    "        # choosing which category to treat as positive & negative    \n",
    "        positive = category_sample.index[0]\n",
    "        negative = category_sample.index[1]\n",
    "        if random.random() < 0.5:\n",
    "            positive, negative = negative, positive\n",
    "            \n",
    "        # chosing items for ABX from positive & nega    \n",
    "        positive_items = categories_dict[positive].sample(2).asin.values\n",
    "        negative_item = categories_dict[negative].sample(1).asin.values\n",
    "        \n",
    "        # appending record\n",
    "        line = {\"A\": positive_items[0],\n",
    "                \"B\": negative_item[0],\n",
    "                \"X\": positive_items[1],\n",
    "                \"category_AX\": positive,\n",
    "                \"category_B\": negative}\n",
    "        test_set.append(line)\n",
    "        \n",
    "    with open(path, 'w') as file:    \n",
    "        pd.DataFrame(test_set).to_json(file, 'records', lines = True)"
   ]
  },
  {
   "cell_type": "code",
   "execution_count": 24,
   "id": "955b450b",
   "metadata": {},
   "outputs": [
    {
     "data": {
      "application/vnd.jupyter.widget-view+json": {
       "model_id": "79d3ece514974135b3aa51897f7a2973",
       "version_major": 2,
       "version_minor": 0
      },
      "text/plain": [
       "  0%|          | 0/10000 [00:00<?, ?it/s]"
      ]
     },
     "metadata": {},
     "output_type": "display_data"
    }
   ],
   "source": [
    "prepare_test_file(categories, '/pio/scratch/1/i313924/test_data/test_ABX_slim', category_type='category_1', test_set_size = 10000, popular_items = popular_items)"
   ]
  },
  {
   "cell_type": "code",
   "execution_count": 92,
   "id": "035036aa",
   "metadata": {},
   "outputs": [
    {
     "data": {
      "text/plain": [
       "Clothing                                                                1044952\n",
       "Shoes                                                                    466895\n",
       "Jewelry                                                                  399823\n",
       "Accessories                                                              186716\n",
       "Watches                                                                  123775\n",
       "                                                                         ...   \n",
       "Size: 0.20 x inch                                                             1\n",
       "Size details ,please see the size table pictures with tshirt photoes          1\n",
       "Material: Copper, zircon                                                      1\n",
       "Soft woven canvas fabric                                                      1\n",
       "                                                                              1\n",
       "Name: category_2, Length: 9908, dtype: int64"
      ]
     },
     "execution_count": 92,
     "metadata": {},
     "output_type": "execute_result"
    }
   ],
   "source": [
    "counts = categories[\"category_2\"].value_counts()\n",
    "counts"
   ]
  }
 ],
 "metadata": {
  "kernelspec": {
   "display_name": "Python 3",
   "language": "python",
   "name": "python3"
  },
  "language_info": {
   "codemirror_mode": {
    "name": "ipython",
    "version": 3
   },
   "file_extension": ".py",
   "mimetype": "text/x-python",
   "name": "python",
   "nbconvert_exporter": "python",
   "pygments_lexer": "ipython3",
   "version": "3.6.13"
  }
 },
 "nbformat": 4,
 "nbformat_minor": 5
}
