{
 "cells": [
  {
   "cell_type": "code",
   "execution_count": 1,
   "id": "2bb4f757",
   "metadata": {},
   "outputs": [],
   "source": [
    "import random\n",
    "\n",
    "import pandas as pd\n",
    "import numpy as np\n",
    "\n",
    "from tqdm.auto import tqdm"
   ]
  },
  {
   "cell_type": "code",
   "execution_count": 2,
   "id": "fcd2fe3e",
   "metadata": {},
   "outputs": [],
   "source": [
    "ratings = pd.read_parquet('/pio/scratch/1/recommender_systems/interim/Amazon/Clothing_Shoes_and_Jewelry_clean.parquet')\n",
    "categories = pd.read_json('/pio/scratch/1/recommender_systems/interim/Amazon/meta_Clothing_Shoes_and_Jewelry_categories.json', lines=True)"
   ]
  },
  {
   "cell_type": "code",
   "execution_count": 3,
   "id": "cf0ca5d3",
   "metadata": {},
   "outputs": [],
   "source": [
    "# items_to_chose_from = (ratings.asin.value_counts() > 5).index"
   ]
  },
  {
   "cell_type": "code",
   "execution_count": 3,
   "id": "5fbf8e2b",
   "metadata": {},
   "outputs": [],
   "source": [
    "items_to_chose_from = np.load('/pio/scratch/1/recommender_systems/interim/ngcf/abx_test_indices.npy', allow_pickle=True)"
   ]
  },
  {
   "cell_type": "code",
   "execution_count": 5,
   "id": "d757daf4",
   "metadata": {},
   "outputs": [],
   "source": [
    "def prepare_test_file(categories, path, test_set_size = 10000,\n",
    "                      category_type = \"category_1\", weighted_sample = True,\n",
    "                      min_counts = 0, items_to_chose_from = None):\n",
    "    \n",
    "    counts = categories[category_type].value_counts()\n",
    "    counts = counts[counts > min_counts] \n",
    "    categories_grouped = categories.groupby(category_type)\n",
    "    \n",
    "    categories_dict = {}\n",
    "    for category, items in categories_grouped:\n",
    "        if items_to_chose_from is not None:\n",
    "            categories_dict[category] = items.loc[items['asin'].isin(items_to_chose_from)]\n",
    "        else:\n",
    "            categories_dict[category] = items                                         \n",
    "\n",
    "    test_set = []    \n",
    "    for _ in tqdm(range(test_set_size)):\n",
    "        \n",
    "        # choosing categories for ABX\n",
    "        if weighted_sample:\n",
    "            category_sample = counts.sample(2, weights=counts)\n",
    "        else:\n",
    "            category_sample = counts.sample(2)\n",
    "            \n",
    "        # choosing which category to treat as positive & negative    \n",
    "        positive = category_sample.index[0]\n",
    "        negative = category_sample.index[1]\n",
    "        if random.random() < 0.5:\n",
    "            positive, negative = negative, positive\n",
    "            \n",
    "        # chosing items for ABX from positive & nega    \n",
    "        positive_items = categories_dict[positive].sample(2).asin.values\n",
    "        negative_item = categories_dict[negative].sample(1).asin.values\n",
    "        \n",
    "        # appending record\n",
    "        line = {\"A\": positive_items[0],\n",
    "                \"B\": negative_item[0],\n",
    "                \"X\": positive_items[1],\n",
    "                \"category_AX\": positive,\n",
    "                \"category_B\": negative}\n",
    "        test_set.append(line)\n",
    "        \n",
    "    with open(path, 'w') as file:    \n",
    "        pd.DataFrame(test_set).to_json(file, 'records', lines = True)"
   ]
  },
  {
   "cell_type": "code",
   "execution_count": null,
   "id": "955b450b",
   "metadata": {
    "pycharm": {
     "is_executing": true
    }
   },
   "outputs": [
    {
     "data": {
      "text/plain": "  0%|          | 0/10000 [00:00<?, ?it/s]",
      "application/vnd.jupyter.widget-view+json": {
       "version_major": 2,
       "version_minor": 0,
       "model_id": "8078954e4baf42b9b8462c545cef60b5"
      }
     },
     "metadata": {},
     "output_type": "display_data"
    }
   ],
   "source": [
    "prepare_test_file(categories, '/pio/scratch/1/recommender_systems/interim/ABX_tests/for_ngcf.json', category_type='category_1', test_set_size = 10000, items_to_chose_from = items_to_chose_from)"
   ]
  },
  {
   "cell_type": "code",
   "execution_count": null,
   "id": "2580d0f6",
   "metadata": {},
   "outputs": [],
   "source": []
  }
 ],
 "metadata": {
  "kernelspec": {
   "display_name": "Python 3",
   "language": "python",
   "name": "python3"
  },
  "language_info": {
   "codemirror_mode": {
    "name": "ipython",
    "version": 3
   },
   "file_extension": ".py",
   "mimetype": "text/x-python",
   "name": "python",
   "nbconvert_exporter": "python",
   "pygments_lexer": "ipython3",
   "version": "3.6.13"
  }
 },
 "nbformat": 4,
 "nbformat_minor": 5
}