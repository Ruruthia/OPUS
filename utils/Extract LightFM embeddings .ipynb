{
 "cells": [
  {
   "cell_type": "code",
   "execution_count": 2,
   "id": "ec5ab3de",
   "metadata": {},
   "outputs": [
    {
     "name": "stderr",
     "output_type": "stream",
     "text": [
      "Matplotlib created a temporary config/cache directory at /tmp/matplotlib-634667xl because the default path (/home/i313924/.cache/matplotlib) is not a writable directory; it is highly recommended to set the MPLCONFIGDIR environment variable to a writable directory, in particular to speed up the import of Matplotlib and to better support multiprocessing.\n"
     ]
    }
   ],
   "source": [
    "import gzip\n",
    "import json\n",
    "import pickle\n",
    "import scipy.sparse\n",
    "\n",
    "import numpy as np\n",
    "import pandas as pd\n",
    "import matplotlib.pyplot as plt\n",
    "import seaborn as sns\n",
    "\n",
    "from sklearn.decomposition import PCA\n",
    "from scipy import spatial\n",
    "from tqdm.auto import tqdm\n",
    "from lightfm import LightFM\n",
    "from lightfm.evaluation import precision_at_k"
   ]
  },
  {
   "cell_type": "code",
   "execution_count": 3,
   "id": "f24f1bb8",
   "metadata": {},
   "outputs": [],
   "source": [
    "model = pd.read_pickle('/pio/scratch/1/i313924/data/lightfm_data/warp_model_1000_epochs_slim.pkl')\n",
    "dataset = pd.read_pickle('/pio/scratch/1/i313924/data/lightfm_data/slim_dataset.pkl')"
   ]
  },
  {
   "cell_type": "code",
   "execution_count": 5,
   "id": "9194fcd8",
   "metadata": {},
   "outputs": [],
   "source": [
    "item_mapping = {v: k for k, v in dataset.mapping()[2].items()}"
   ]
  },
  {
   "cell_type": "code",
   "execution_count": 16,
   "id": "950f98dc",
   "metadata": {},
   "outputs": [],
   "source": [
    "asins = pd.DataFrame.from_dict(item_mapping, orient='index').to_numpy()"
   ]
  },
  {
   "cell_type": "code",
   "execution_count": 17,
   "id": "4291e67c",
   "metadata": {},
   "outputs": [],
   "source": [
    "embeddings = model.item_embeddings"
   ]
  },
  {
   "cell_type": "code",
   "execution_count": 23,
   "id": "bcad3b81",
   "metadata": {},
   "outputs": [],
   "source": [
    "with open('/pio/scratch/1/recommender_systems/interim/lightfm/lightfm_indices.npy', 'wb') as f:\n",
    "    np.save(f, asins)"
   ]
  },
  {
   "cell_type": "code",
   "execution_count": 24,
   "id": "2dcf66e9",
   "metadata": {},
   "outputs": [],
   "source": [
    "with open('/pio/scratch/1/recommender_systems/interim/lightfm/lightfm_embeddings.npy', 'wb') as f:\n",
    "    np.save(f, embeddings)"
   ]
  },
  {
   "cell_type": "code",
   "execution_count": null,
   "id": "1ed65d4d",
   "metadata": {},
   "outputs": [],
   "source": []
  }
 ],
 "metadata": {
  "kernelspec": {
   "display_name": "Python 3",
   "language": "python",
   "name": "python3"
  },
  "language_info": {
   "codemirror_mode": {
    "name": "ipython",
    "version": 3
   },
   "file_extension": ".py",
   "mimetype": "text/x-python",
   "name": "python",
   "nbconvert_exporter": "python",
   "pygments_lexer": "ipython3",
   "version": "3.6.13"
  }
 },
 "nbformat": 4,
 "nbformat_minor": 5
}
