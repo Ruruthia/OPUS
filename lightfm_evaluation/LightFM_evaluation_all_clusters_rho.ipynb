{
 "cells": [
  {
   "cell_type": "code",
   "execution_count": 57,
   "id": "c67ba190",
   "metadata": {},
   "outputs": [],
   "source": [
    "import matplotlib.pyplot as plt\n",
    "import numpy as np\n",
    "import pandas as pd\n",
    "import scipy.sparse\n",
    "import seaborn as sns\n",
    "from scipy import spatial\n",
    "from scipy.sparse import coo_matrix\n",
    "from sklearn.decomposition import PCA\n",
    "from tqdm.auto import tqdm"
   ]
  },
  {
   "cell_type": "code",
   "execution_count": 58,
   "outputs": [],
   "source": [
    "THREADS = 8"
   ],
   "metadata": {
    "collapsed": false,
    "pycharm": {
     "name": "#%%\n"
    }
   }
  },
  {
   "cell_type": "code",
   "execution_count": null,
   "outputs": [],
   "source": [
    "epochs = [5, 25, 50, 250, 500, 1000, 1500]\n",
    "models = [pd.read_pickle(f'/pio/scratch/1/i313924/data/lightfm_data/model_{epochs}_epochs_all_clusters_rho_0.8.pkl') for epochs in epochs]\n",
    "train_interactions = scipy.sparse.load_npz('/pio/scratch/1/i313924/data/lightfm_data/5_core_interactions.npz')\n",
    "test_interactions = scipy.sparse.load_npz('/pio/scratch/1/i313924/data/lightfm_data/5_core_test_interactions.npz')"
   ],
   "metadata": {
    "collapsed": false,
    "pycharm": {
     "name": "#%%\n",
     "is_executing": true
    }
   }
  },
  {
   "cell_type": "code",
   "execution_count": null,
   "outputs": [],
   "source": [
    "dataset = pd.read_pickle('/pio/scratch/1/i313924/data/lightfm_data/5_core_dataset.pkl')"
   ],
   "metadata": {
    "collapsed": false,
    "pycharm": {
     "name": "#%%\n",
     "is_executing": true
    }
   }
  },
  {
   "cell_type": "markdown",
   "source": [
    "## Utils"
   ],
   "metadata": {
    "collapsed": false
   }
  },
  {
   "cell_type": "code",
   "execution_count": null,
   "outputs": [],
   "source": [
    "def hit_rate(results_pdf, k=50):\n",
    "    return np.average(\n",
    "        results_pdf.groupby('reviewerID').progress_apply(\n",
    "            lambda pdf: np.any(pdf['rank'] <= k)\n",
    "        )\n",
    "    )\n",
    "\n",
    "def precision(results_pdf, k=50):\n",
    "    return np.average(\n",
    "        results_pdf.groupby('reviewerID').progress_apply(\n",
    "            lambda pdf: np.sum(pdf['rank'] <= k) / k\n",
    "        )\n",
    "    )\n",
    "\n",
    "def recall(results_pdf, k=50):\n",
    "    return np.average(\n",
    "        results_pdf.groupby('reviewerID').progress_apply(\n",
    "            lambda pdf: np.sum(pdf['rank'] <= k) / len(pdf)\n",
    "        )\n",
    "    )"
   ],
   "metadata": {
    "collapsed": false,
    "pycharm": {
     "name": "#%%\n",
     "is_executing": true
    }
   }
  },
  {
   "cell_type": "code",
   "execution_count": null,
   "outputs": [],
   "source": [
    "def calculate_metrics(results, user_mapping, item_mapping):\n",
    "    results = coo_matrix(results)\n",
    "    results_pdf = pd.DataFrame(\n",
    "        np.vstack((results.row, results.col, results.data)).T,\n",
    "        columns=['reviewerID', 'asin', 'rank'],\n",
    "        dtype=int\n",
    "    )\n",
    "    results_pdf['reviewerID'] = results_pdf['reviewerID'].map(user_mapping)\n",
    "    results_pdf['asin'] = results_pdf['asin'].map(item_mapping)\n",
    "\n",
    "    return hit_rate(results_pdf), recall(results_pdf), precision(results_pdf)"
   ],
   "metadata": {
    "collapsed": false,
    "pycharm": {
     "name": "#%%\n",
     "is_executing": true
    }
   }
  },
  {
   "cell_type": "code",
   "execution_count": null,
   "outputs": [],
   "source": [
    "def analyse_metrics(models, train_interactions, test_interactions, dataset):\n",
    "\n",
    "    test_precision_scores = []\n",
    "    test_recall_scores = []\n",
    "    test_hit_rate_scores = []\n",
    "\n",
    "    item_mapping = {v: k for k, v in dataset.mapping()[2].items()}\n",
    "    user_mapping = {v: k for k, v in dataset.mapping()[0].items()}\n",
    "    for model in tqdm(models):\n",
    "\n",
    "        results = model.predict_rank(test_interactions, train_interactions, num_threads=8)\n",
    "        hr, r, p = calculate_metrics(results, user_mapping, item_mapping)\n",
    "\n",
    "        test_hit_rate_scores.append(hr)\n",
    "        test_recall_scores.append(r)\n",
    "        test_precision_scores.append(p)\n",
    "\n",
    "    return test_hit_rate_scores, test_recall_scores, test_precision_scores"
   ],
   "metadata": {
    "collapsed": false,
    "pycharm": {
     "name": "#%%\n",
     "is_executing": true
    }
   }
  },
  {
   "cell_type": "code",
   "execution_count": null,
   "outputs": [],
   "source": [
    "def analyse_ABX(path, items_embeddings, pca):\n",
    "    abx_tests = pd.read_json(path, lines=True)\n",
    "    A = np.zeros((10000, 100))\n",
    "    B = np.zeros((10000, 100))\n",
    "    X = np.zeros((10000, 100))\n",
    "\n",
    "    for i, test in abx_tests.iterrows():\n",
    "        A[i, :] = items_embeddings.loc[test[\"A\"]]\n",
    "        B[i, :] = items_embeddings.loc[test[\"B\"]]\n",
    "        X[i, :] = items_embeddings.loc[test[\"X\"]]\n",
    "\n",
    "    dist_A = ((A - X)**2).sum(axis=1)\n",
    "    dist_B = ((B - X)**2).sum(axis=1)\n",
    "\n",
    "    cos_dist_A = np.zeros(10000)\n",
    "    cos_dist_B = np.zeros(10000)\n",
    "\n",
    "    for i in range(10000):\n",
    "        cos_dist_A[i] = spatial.distance.cosine(A[i, :], X[i, :])\n",
    "        cos_dist_B[i] = spatial.distance.cosine(B[i, :], X[i, :])\n",
    "\n",
    "    if pca is not None:\n",
    "        pca_A = pca.transform(A)\n",
    "        pca_B = pca.transform(B)\n",
    "        pca_X = pca.transform(X)\n",
    "\n",
    "        dist_pca_A = ((pca_A - pca_X)**2).sum(axis=1)\n",
    "        dist_pca_B  = ((pca_B - pca_X)**2).sum(axis=1)\n",
    "\n",
    "        cos_dist_pca_A = np.zeros(10000)\n",
    "        cos_dist_pca_B = np.zeros(10000)\n",
    "\n",
    "        for i in range(10000):\n",
    "            cos_dist_pca_A[i] = spatial.distance.cosine(pca_A[i, :], pca_X[i, :])\n",
    "            cos_dist_pca_B[i] = spatial.distance.cosine(pca_B[i, :], pca_X[i, :])\n",
    "\n",
    "    return [(dist_A < dist_B).mean(), (dist_pca_A < dist_pca_B).mean(), ((dist_A < dist_B) == (dist_pca_A < dist_pca_B)).mean()], [(cos_dist_A < cos_dist_B).mean(), (cos_dist_pca_A < cos_dist_pca_B).mean(), ((cos_dist_A < cos_dist_B) == (cos_dist_pca_A < cos_dist_pca_B)).mean()]"
   ],
   "metadata": {
    "collapsed": false,
    "pycharm": {
     "name": "#%%\n",
     "is_executing": true
    }
   }
  },
  {
   "cell_type": "code",
   "execution_count": null,
   "outputs": [],
   "source": [
    "def analyse(num_epochs, models, categories, women_ids, men_ids):\n",
    "\n",
    "    item_embeddings = pd.DataFrame()\n",
    "    user_embeddings = pd.DataFrame()\n",
    "\n",
    "    for model in models:\n",
    "\n",
    "        item_embeddings = pd.concat([item_embeddings, pd.DataFrame(model.item_embeddings)])\n",
    "        user_embeddings = pd.concat([user_embeddings, pd.DataFrame(model.user_embeddings)])\n",
    "\n",
    "    item_pca = PCA(n_components=2)\n",
    "    item_pca.fit(item_embeddings)\n",
    "    user_pca = PCA(n_components=2)\n",
    "    user_pca.fit(user_embeddings)\n",
    "\n",
    "    print(\"PCA prepared\")\n",
    "\n",
    "    eucl_scores = []\n",
    "    cos_scores = []\n",
    "    women_means = []\n",
    "    men_means = []\n",
    "\n",
    "    for i, (epochs, model) in enumerate(zip(num_epochs, models)):\n",
    "\n",
    "        figure, axis = plt.subplots(1, 2, figsize=(12,6))\n",
    "        print(f\"EPOCH: {epochs}\")\n",
    "\n",
    "        item_mapping = {v: k for k, v in dataset.mapping()[2].items()}\n",
    "\n",
    "        item_embeddings = pd.DataFrame(model.item_embeddings)\n",
    "        user_embeddings = pd.DataFrame(model.user_embeddings)\n",
    "\n",
    "        reduced_item_embeddings = pd.DataFrame(item_pca.transform(item_embeddings))\n",
    "        reduced_user_embeddings = pd.DataFrame(user_pca.transform(user_embeddings))\n",
    "\n",
    "        axis[0].scatter(reduced_user_embeddings[0], reduced_user_embeddings[1], s=0.03)\n",
    "        axis[0].set_xlim([-1, 1])\n",
    "        axis[0].set_ylim([-1, 1])\n",
    "\n",
    "        reduced_item_embeddings = reduced_item_embeddings.rename(index=item_mapping)\n",
    "\n",
    "        reduced_item_embeddings = reduced_item_embeddings.join(categories.set_index('asin'))\n",
    "        reduced_item_embeddings.columns = ['0', '1', 'category_1', 'category_2']\n",
    "\n",
    "        sns.scatterplot(x='0', y='1', data=reduced_item_embeddings, hue='category_1', s=10, ax=axis[1], legend=False)\n",
    "        axis[1].set_xlim([-5, 5])\n",
    "        axis[1].set_ylim([-5, 5])\n",
    "        figure.show()\n",
    "\n",
    "        item_embeddings = item_embeddings.rename(index=item_mapping)\n",
    "\n",
    "        women_mean = item_embeddings.loc[women_ids].mean(axis = 0)\n",
    "        men_mean = item_embeddings.loc[men_ids].mean(axis = 0)\n",
    "\n",
    "        women_means.append(women_mean)\n",
    "        men_means.append(men_mean)\n",
    "\n",
    "        eucl_score, cos_score = analyse_ABX('/pio/scratch/1/recommender_systems/interim/ABX_tests/5_core.json', item_embeddings, pca = item_pca)\n",
    "\n",
    "        eucl_scores.append(eucl_score)\n",
    "        cos_scores.append(cos_score)\n",
    "\n",
    "    return eucl_scores, cos_scores, women_means, men_means, item_pca"
   ],
   "metadata": {
    "collapsed": false,
    "pycharm": {
     "name": "#%%\n",
     "is_executing": true
    }
   }
  },
  {
   "cell_type": "code",
   "execution_count": null,
   "outputs": [],
   "source": [
    "categories = pd.read_json('/pio/scratch/1/recommender_systems/interim/Amazon/meta_Clothing_Shoes_and_Jewelry_categories.json', lines=True)"
   ],
   "metadata": {
    "collapsed": false,
    "pycharm": {
     "name": "#%%\n",
     "is_executing": true
    }
   }
  },
  {
   "cell_type": "code",
   "execution_count": null,
   "outputs": [],
   "source": [
    "item_ids = list(dataset.mapping()[2].keys())\n",
    "women_ids = categories[(categories.category_1 == \"Women\") & (categories.asin.isin(item_ids))].asin.values\n",
    "men_ids = categories[(categories.category_1 == \"Men\") & (categories.asin.isin(item_ids))].asin.values"
   ],
   "metadata": {
    "collapsed": false,
    "pycharm": {
     "name": "#%%\n",
     "is_executing": true
    }
   }
  },
  {
   "cell_type": "code",
   "execution_count": null,
   "outputs": [],
   "source": [
    "e, c, women_means, men_means, item_pca = analyse(epochs, models, categories, women_ids, men_ids)"
   ],
   "metadata": {
    "collapsed": false,
    "pycharm": {
     "name": "#%%\n",
     "is_executing": true
    }
   }
  },
  {
   "cell_type": "code",
   "execution_count": null,
   "outputs": [],
   "source": [
    "print(\"Eucl dist\")\n",
    "plt.plot(np.tile(epochs, (3, 1)).T, e)\n",
    "plt.legend([\"score\", \"pca score\", \"pca dist match\"])\n",
    "plt.show()\n",
    "print(\"Cos dist\")\n",
    "plt.plot(np.tile(epochs, (3, 1)).T, c)\n",
    "plt.legend([\"score\", \"pca score\", \"pca dist match\"])\n",
    "plt.show()"
   ],
   "metadata": {
    "collapsed": false,
    "pycharm": {
     "name": "#%%\n",
     "is_executing": true
    }
   }
  },
  {
   "cell_type": "code",
   "execution_count": null,
   "outputs": [],
   "source": [
    "e"
   ],
   "metadata": {
    "collapsed": false,
    "pycharm": {
     "name": "#%%\n",
     "is_executing": true
    }
   }
  },
  {
   "cell_type": "code",
   "execution_count": null,
   "outputs": [],
   "source": [
    "c"
   ],
   "metadata": {
    "collapsed": false,
    "pycharm": {
     "name": "#%%\n",
     "is_executing": true
    }
   }
  },
  {
   "cell_type": "code",
   "execution_count": null,
   "outputs": [],
   "source": [
    "tqdm.pandas()\n",
    "test_hit_rate_scores, test_recall_scores, test_precision_scores = analyse_metrics(models, train_interactions, test_interactions, dataset)"
   ],
   "metadata": {
    "collapsed": false,
    "pycharm": {
     "name": "#%%\n",
     "is_executing": true
    }
   }
  },
  {
   "cell_type": "code",
   "execution_count": null,
   "outputs": [],
   "source": [
    "test_recall_scores"
   ],
   "metadata": {
    "collapsed": false,
    "pycharm": {
     "name": "#%%\n",
     "is_executing": true
    }
   }
  },
  {
   "cell_type": "code",
   "execution_count": null,
   "outputs": [],
   "source": [
    "test_precision_scores"
   ],
   "metadata": {
    "collapsed": false,
    "pycharm": {
     "name": "#%%\n",
     "is_executing": true
    }
   }
  },
  {
   "cell_type": "code",
   "execution_count": null,
   "outputs": [],
   "source": [
    "test_hit_rate_scores"
   ],
   "metadata": {
    "collapsed": false,
    "pycharm": {
     "name": "#%%\n",
     "is_executing": true
    }
   }
  },
  {
   "cell_type": "code",
   "execution_count": null,
   "outputs": [],
   "source": [
    "model = models[-1]\n",
    "item_embeddings = pd.DataFrame(model.item_embeddings)\n",
    "item_mapping = {v: k for k, v in dataset.mapping()[2].items()}\n",
    "pca = PCA(n_components=2)\n",
    "pca.fit(item_embeddings)\n",
    "reduced_item_embeddings = pd.DataFrame(pca.transform(item_embeddings))\n",
    "reduced_item_embeddings = reduced_item_embeddings.rename(index=item_mapping)\n",
    "reduced_item_embeddings = reduced_item_embeddings.join(categories.set_index('asin'))\n",
    "reduced_item_embeddings.columns = ['0', '1', 'category_1', 'category_2']"
   ],
   "metadata": {
    "collapsed": false,
    "pycharm": {
     "name": "#%%\n",
     "is_executing": true
    }
   }
  },
  {
   "cell_type": "code",
   "execution_count": null,
   "outputs": [],
   "source": [
    "reduced_item_embeddings.category_1.value_counts()"
   ],
   "metadata": {
    "collapsed": false,
    "pycharm": {
     "name": "#%%\n",
     "is_executing": true
    }
   }
  },
  {
   "cell_type": "code",
   "execution_count": null,
   "outputs": [],
   "source": [
    "sns.scatterplot(x='0', y='1', data=reduced_item_embeddings[~reduced_item_embeddings['category_1'].isin(['Women', 'Men'])], hue='category_1', s=10, legend=False)"
   ],
   "metadata": {
    "collapsed": false,
    "pycharm": {
     "name": "#%%\n",
     "is_executing": true
    }
   }
  },
  {
   "cell_type": "code",
   "execution_count": null,
   "outputs": [],
   "source": [
    "sns.scatterplot(x='0', y='1', data=reduced_item_embeddings[reduced_item_embeddings['category_1'].isin(['Boys', 'Girls', 'Baby'])], hue='category_1', s=10, legend=True)"
   ],
   "metadata": {
    "collapsed": false,
    "pycharm": {
     "name": "#%%\n",
     "is_executing": true
    }
   }
  },
  {
   "cell_type": "code",
   "execution_count": null,
   "outputs": [],
   "source": [
    "sns.scatterplot(x='0', y='1', data=reduced_item_embeddings[reduced_item_embeddings['category_1'].isin(['Boys', 'Women'])], hue='category_1', s=10, legend=True)"
   ],
   "metadata": {
    "collapsed": false,
    "pycharm": {
     "name": "#%%\n",
     "is_executing": true
    }
   }
  },
  {
   "cell_type": "code",
   "execution_count": null,
   "outputs": [],
   "source": [
    "sns.scatterplot(x='0', y='1', data=reduced_item_embeddings[reduced_item_embeddings['category_1'].isin(['Boys', 'Men'])], hue='category_1', s=10, legend=True)"
   ],
   "metadata": {
    "collapsed": false,
    "pycharm": {
     "name": "#%%\n",
     "is_executing": true
    }
   }
  },
  {
   "cell_type": "code",
   "execution_count": null,
   "outputs": [],
   "source": [
    "sns.scatterplot(x='0', y='1', data=reduced_item_embeddings[reduced_item_embeddings['category_1'].isin(['Novelty & More', 'Men'])], hue='category_1', s=10, legend=True)"
   ],
   "metadata": {
    "collapsed": false,
    "pycharm": {
     "name": "#%%\n",
     "is_executing": true
    }
   }
  },
  {
   "cell_type": "code",
   "execution_count": null,
   "outputs": [],
   "source": [
    "sns.scatterplot(x='0', y='1', data=reduced_item_embeddings[reduced_item_embeddings['category_1'].isin(['Novelty & More', 'Boys'])], hue='category_1', s=10, legend=True)"
   ],
   "metadata": {
    "collapsed": false,
    "pycharm": {
     "name": "#%%\n",
     "is_executing": true
    }
   }
  },
  {
   "cell_type": "code",
   "execution_count": null,
   "outputs": [],
   "source": [
    "sns.scatterplot(x='0', y='1', data=reduced_item_embeddings[reduced_item_embeddings['category_1'].isin(['Novelty & More', 'Girls'])], hue='category_1', s=10, legend=True)"
   ],
   "metadata": {
    "collapsed": false,
    "pycharm": {
     "name": "#%%\n",
     "is_executing": true
    }
   }
  }
 ],
 "metadata": {
  "kernelspec": {
   "display_name": "Python 3",
   "language": "python",
   "name": "python3"
  },
  "language_info": {
   "codemirror_mode": {
    "name": "ipython",
    "version": 3
   },
   "file_extension": ".py",
   "mimetype": "text/x-python",
   "name": "python",
   "nbconvert_exporter": "python",
   "pygments_lexer": "ipython3",
   "version": "3.6.13"
  }
 },
 "nbformat": 4,
 "nbformat_minor": 5
}